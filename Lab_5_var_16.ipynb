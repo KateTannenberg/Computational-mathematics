{
 "cells": [
  {
   "cell_type": "markdown",
   "metadata": {},
   "source": [
    "**Аналитическое решение:**"
   ]
  },
  {
   "cell_type": "markdown",
   "metadata": {},
   "source": [
    "$$u(x,y)={y^3\\over 3}+{x^2\\over 4}-{x^4\\over 6}-{y^4\\over 6}$$ "
   ]
  },
  {
   "cell_type": "markdown",
   "metadata": {},
   "source": [
    "**Тачность численного решения оценим по 1-ой метрики:**"
   ]
  },
  {
   "cell_type": "code",
   "execution_count": 69,
   "metadata": {},
   "outputs": [],
   "source": [
    "import numpy as np\n",
    "from math import *\n",
    "import matplotlib.pyplot as plt\n",
    "import seaborn as sns"
   ]
  },
  {
   "cell_type": "markdown",
   "metadata": {},
   "source": [
    "Шаг по времени будем выбирать упорядоченным оптимальным набором чебышевских параметров через функцию для **$mu[i-1][j-1]$**:"
   ]
  },
  {
   "cell_type": "code",
   "execution_count": 70,
   "metadata": {},
   "outputs": [],
   "source": [
    "L = 5\n",
    "M = 5\n",
    "\n",
    "xx = np.linspace(-0.5, 0.5, L+1)\n",
    "yy = np.linspace(0, 1, M+1)\n",
    "\n",
    "hx = np.diff(xx)[0]\n",
    "hy = np.diff(yy)[0]\n",
    "\n",
    "mu = np.zeros([L+1, M+1])\n",
    "for i in range(1, L+2):\n",
    "    for j in range(1, M+2):\n",
    "        mu[i-1][j-1] = 4 * ( ( sin(i*pi/(2*L)) / hx )**2 + ( sin(j*pi/(2*M)) / hy )**2 )"
   ]
  },
  {
   "cell_type": "code",
   "execution_count": 71,
   "metadata": {},
   "outputs": [
    {
     "data": {
      "text/plain": [
       "(19.09830056250525, 200.0)"
      ]
     },
     "execution_count": 71,
     "metadata": {},
     "output_type": "execute_result"
    }
   ],
   "source": [
    "mu_m = np.amin(mu)\n",
    "mu_M = np.amax(mu)\n",
    "\n",
    "mu_m, mu_M"
   ]
  },
  {
   "cell_type": "code",
   "execution_count": 72,
   "metadata": {},
   "outputs": [],
   "source": [
    "# mu_m = 2*(pi**2)\n",
    "# mu_M = 4*(L**2 + M**2)\n",
    "\n",
    "# mu_m, mu_M"
   ]
  },
  {
   "cell_type": "markdown",
   "metadata": {},
   "source": [
    "Минимальное число шагов по времени:"
   ]
  },
  {
   "cell_type": "code",
   "execution_count": 73,
   "metadata": {},
   "outputs": [
    {
     "data": {
      "text/plain": [
       "11.896550228335862"
      ]
     },
     "execution_count": 73,
     "metadata": {},
     "output_type": "execute_result"
    }
   ],
   "source": [
    "eps = 1e-3\n",
    "N_min = log(2/eps)/log((sqrt(mu_M) + sqrt(mu_m))/(sqrt(mu_M) - sqrt(mu_m)))\n",
    "N_min"
   ]
  },
  {
   "cell_type": "code",
   "execution_count": 74,
   "metadata": {},
   "outputs": [],
   "source": [
    "N = 32\n",
    "tau_n = lambda n: 2 / (mu_M + mu_m + (mu_M-mu_m)*cos(pi*(2*n-1)/(2*N)))"
   ]
  },
  {
   "cell_type": "code",
   "execution_count": 75,
   "metadata": {},
   "outputs": [
    {
     "data": {
      "text/plain": [
       "[32, 16, 8, 4, 2, 1]"
      ]
     },
     "execution_count": 75,
     "metadata": {},
     "output_type": "execute_result"
    }
   ],
   "source": [
    "N_arr = [N]\n",
    "while N != 1:\n",
    "    if N % 2 == 0:\n",
    "        N = int(N/2)\n",
    "        N_arr.append(N)\n",
    "    else:\n",
    "        N = N - 1\n",
    "        N_arr.append(N)\n",
    "\n",
    "N_arr"
   ]
  },
  {
   "cell_type": "code",
   "execution_count": 76,
   "metadata": {},
   "outputs": [
    {
     "data": {
      "text/plain": [
       "[16]"
      ]
     },
     "execution_count": 76,
     "metadata": {},
     "output_type": "execute_result"
    }
   ],
   "source": [
    "highlighted = []\n",
    "highlighted.append(N_arr[1])\n",
    "for i in range(len(N_arr)):\n",
    "    if (i>0) and (i<len(N_arr)-1):\n",
    "        if (N_arr[i] % 2 == 0) and (N_arr[i-1] % 2 == 1) and (N_arr[i+1] % 2 == 1):\n",
    "            highlighted.append(N_arr[i])\n",
    "\n",
    "N_arr = N_arr[::-1]\n",
    "highlighted"
   ]
  },
  {
   "cell_type": "code",
   "execution_count": 77,
   "metadata": {},
   "outputs": [],
   "source": [
    "Ntoi = {}\n",
    "for i, N in enumerate(N_arr):\n",
    "    Ntoi[N] = i"
   ]
  },
  {
   "cell_type": "markdown",
   "metadata": {},
   "source": [
    "Вычисляем тэты:"
   ]
  },
  {
   "cell_type": "code",
   "execution_count": 78,
   "metadata": {},
   "outputs": [],
   "source": [
    "thetas = [[] for n in N_arr]\n",
    "\n",
    "for i, N in enumerate(N_arr):\n",
    "    m = N//2\n",
    "    if N % 2 == 0:\n",
    "        thetas[Ntoi[2*m]] = [0]*(2*m + 1)\n",
    "        if N in highlighted:\n",
    "            for i in range(1, m+1):\n",
    "                thetas[Ntoi[2*m]][2*i-1] = thetas[Ntoi[m]][i]\n",
    "                thetas[Ntoi[2*m]][2*i] = 4*m + 2 - thetas[Ntoi[2*m]][2*i-1]\n",
    "        else:\n",
    "            for i in range(1, m+1):\n",
    "                thetas[Ntoi[2*m]][2*i-1] = thetas[Ntoi[m]][i]\n",
    "                thetas[Ntoi[2*m]][2*i] = 4*m - thetas[Ntoi[2*m]][2*i-1]\n",
    "    else:\n",
    "        thetas[Ntoi[2*m + 1]] = [0]*(2*m + 2)\n",
    "        if N_arr[i-1] in highlighted and i>0:\n",
    "            for i in range(1, 2*m+1):\n",
    "                thetas[Ntoi[2*m + 1]][i] = thetas[Ntoi[2*m]][i]\n",
    "            thetas[Ntoi[2*m + 1]][2*m + 1] = 2*m+1\n",
    "        else:\n",
    "            for i in range(1, 2*m+1):\n",
    "                thetas[Ntoi[2*m + 1]][i] = thetas[Ntoi[2*m]][i]\n",
    "            thetas[Ntoi[2*m + 1]][2*m + 1] = 4*m+1\n",
    "\n",
    "thetas = [theta[1:] for theta in thetas]\n",
    "tau_nn = [int((x+1)/2) for x in thetas[Ntoi[N]]]"
   ]
  },
  {
   "cell_type": "code",
   "execution_count": 79,
   "metadata": {},
   "outputs": [],
   "source": [
    "tauu = [tau_n(n) for n in tau_nn]"
   ]
  },
  {
   "cell_type": "code",
   "execution_count": 80,
   "metadata": {},
   "outputs": [],
   "source": [
    "F = [[2*y*(1-y) + 0.5*(1-4*(x**2)) for y in yy] for x in xx]\n",
    "u0 = lambda x, y: 0\n",
    "\n",
    "u_curr = [[u0(x, y) for y in yy] for x in xx]\n",
    "u_prev = np.zeros([L+1, M+1])"
   ]
  },
  {
   "cell_type": "code",
   "execution_count": 81,
   "metadata": {},
   "outputs": [],
   "source": [
    "for i in range(1):\n",
    "    for n in range(N):\n",
    "        u_prev = u_curr\n",
    "        u_curr = np.zeros([L+1, M+1])\n",
    "        for l in range(L+1):\n",
    "            for m in range(M+1):\n",
    "                if (l == 0) or (m == 0) or (l == L) or (m == M):\n",
    "                    u_curr[l][m] = 0\n",
    "                else:\n",
    "                    tau = tauu[n]\n",
    "                    u_curr[l][m] = u_prev[l][m] + (tau/(hx**2))*(u_prev[l+1][m]-2*u_prev[l][m]+u_prev[l-1][m]) + (tau/(hy**2))*(u_prev[l][m+1]-2*u_prev[l][m]+u_prev[l][m-1]) - tau*F[l][m]"
   ]
  },
  {
   "cell_type": "code",
   "execution_count": 82,
   "metadata": {},
   "outputs": [
    {
     "data": {
      "image/png": "[encoded data removed]",
      "text/plain": [
       "<Figure size 640x480 with 2 Axes>"
      ]
     },
     "metadata": {},
     "output_type": "display_data"
    }
   ],
   "source": [
    "sns.heatmap(u_curr) \n",
    "plt.show()"
   ]
  },
  {
   "cell_type": "code",
   "execution_count": 83,
   "metadata": {},
   "outputs": [
    {
     "data": {
      "text/plain": [
       "-0.05759999979763268"
      ]
     },
     "execution_count": 83,
     "metadata": {},
     "output_type": "execute_result"
    }
   ],
   "source": [
    "u_curr[L//2][M//2]"
   ]
  },
  {
   "cell_type": "code",
   "execution_count": 84,
   "metadata": {},
   "outputs": [
    {
     "data": {
      "text/plain": [
       "0.10000000000000009"
      ]
     },
     "execution_count": 84,
     "metadata": {},
     "output_type": "execute_result"
    }
   ],
   "source": [
    "xx[3]"
   ]
  },
  {
   "cell_type": "code",
   "execution_count": 85,
   "metadata": {},
   "outputs": [
    {
     "data": {
      "text/plain": [
       "0.6000000000000001"
      ]
     },
     "execution_count": 85,
     "metadata": {},
     "output_type": "execute_result"
    }
   ],
   "source": [
    "yy[3]"
   ]
  },
  {
   "cell_type": "code",
   "execution_count": 86,
   "metadata": {},
   "outputs": [
    {
     "data": {
      "text/plain": [
       "-0.057599999797632695"
      ]
     },
     "execution_count": 86,
     "metadata": {},
     "output_type": "execute_result"
    }
   ],
   "source": [
    "u_curr[3][3]"
   ]
  },
  {
   "cell_type": "markdown",
   "metadata": {},
   "source": [
    "Высчитываем аналитическое решение:"
   ]
  },
  {
   "cell_type": "code",
   "execution_count": 87,
   "metadata": {},
   "outputs": [],
   "source": [
    "f_an = lambda x, y: y*(1-y)*(1-4*x**2)*(-0.25)"
   ]
  },
  {
   "cell_type": "code",
   "execution_count": 88,
   "metadata": {},
   "outputs": [],
   "source": [
    "def sol(i, j):\n",
    "    x = xx[i]\n",
    "    y = yy[j]\n",
    "    uc = u_curr[i][j]\n",
    "    uan = f_an(x, y)\n",
    "    return (uc, uan, abs(uan - uc))"
   ]
  },
  {
   "cell_type": "markdown",
   "metadata": {},
   "source": [
    "Точность численного решения:"
   ]
  },
  {
   "cell_type": "code",
   "execution_count": 89,
   "metadata": {},
   "outputs": [
    {
     "name": "stdout",
     "output_type": "stream",
     "text": [
      "\n"
     ]
    }
   ],
   "source": [
    "d = 0\n",
    "for i in range(len(xx)):\n",
    "    for j in range(len(yy)):\n",
    "        x = xx[i]\n",
    "        y = yy[j]\n",
    "        uc = u_curr[i][j]\n",
    "        uan = f_an(x, y)\n",
    "        d = max(d, abs(uan - uc))\n",
    "\n",
    "print()"
   ]
  },
  {
   "cell_type": "code",
   "execution_count": 90,
   "metadata": {},
   "outputs": [
    {
     "data": {
      "text/plain": [
       "(0.10000000000000009, 0.6000000000000001)"
      ]
     },
     "execution_count": 90,
     "metadata": {},
     "output_type": "execute_result"
    }
   ],
   "source": [
    "xx[3], yy[3]"
   ]
  },
  {
   "cell_type": "markdown",
   "metadata": {},
   "source": [
    "Конечный вывод: численное решение/ аналитическое решение/ первая норма размерности"
   ]
  },
  {
   "cell_type": "code",
   "execution_count": 91,
   "metadata": {},
   "outputs": [
    {
     "data": {
      "text/plain": [
       "(-0.057599999797632695, -0.0576, 2.02367303470119e-10)"
      ]
     },
     "execution_count": 91,
     "metadata": {},
     "output_type": "execute_result"
    }
   ],
   "source": [
    "sol(3, 3)"
   ]
  },
  {
   "cell_type": "code",
   "execution_count": null,
   "metadata": {},
   "outputs": [],
   "source": []
  }
 ],
 "metadata": {
  "kernelspec": {
   "display_name": "Python 3",
   "language": "python",
   "name": "python3"
  },
  "language_info": {
   "codemirror_mode": {
    "name": "ipython",
    "version": 3
   },
   "file_extension": ".py",
   "mimetype": "text/x-python",
   "name": "python",
   "nbconvert_exporter": "python",
   "pygments_lexer": "ipython3",
   "version": "3.8.3"
  }
 },
 "nbformat": 4,
 "nbformat_minor": 4
}
