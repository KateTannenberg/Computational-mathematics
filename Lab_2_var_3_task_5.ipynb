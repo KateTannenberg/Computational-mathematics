{
 "cells": [
  {
   "cell_type": "code",
   "execution_count": 3,
   "metadata": {
    "executionInfo": {
     "elapsed": 426,
     "status": "ok",
     "timestamp": 1646920281583,
     "user": {
      "displayName": "Иван Людвиг Валерьевич Терешко",
      "photoUrl": "https://lh3.googleusercontent.com/a/default-user=s64",
      "userId": "06095181433871474271"
     },
     "user_tz": -180
    },
    "id": "_7O4Pok_ELKx"
   },
   "outputs": [],
   "source": [
    "from math import *\n",
    "import numpy as np\n",
    "import matplotlib.pyplot as plt\n",
    "import pandas as pd"
   ]
  },
  {
   "cell_type": "code",
   "execution_count": 4,
   "metadata": {
    "executionInfo": {
     "elapsed": 30,
     "status": "ok",
     "timestamp": 1646920281585,
     "user": {
      "displayName": "Иван Людвиг Валерьевич Терешко",
      "photoUrl": "https://lh3.googleusercontent.com/a/default-user=s64",
      "userId": "06095181433871474271"
     },
     "user_tz": -180
    },
    "id": "MirzbXqGGEpR"
   },
   "outputs": [],
   "source": [
    "u0 = 1\n",
    "u1 = 0\n",
    "x0 = 1/sqrt(2)"
   ]
  },
  {
   "cell_type": "code",
   "execution_count": 5,
   "metadata": {
    "executionInfo": {
     "elapsed": 29,
     "status": "ok",
     "timestamp": 1646920281586,
     "user": {
      "displayName": "Иван Людвиг Валерьевич Терешко",
      "photoUrl": "https://lh3.googleusercontent.com/a/default-user=s64",
      "userId": "06095181433871474271"
     },
     "user_tz": -180
    },
    "id": "xo8grBx8MVDL"
   },
   "outputs": [],
   "source": [
    "kax = lambda x: 1\n",
    "kbx = lambda x: exp(sin(x))\n",
    "\n",
    "qax = lambda x: 1\n",
    "qbx = lambda x: 2\n",
    "\n",
    "fax = lambda x: exp(x)\n",
    "fbx = lambda x: exp(x)"
   ]
  },
  {
   "cell_type": "code",
   "execution_count": 6,
   "metadata": {
    "executionInfo": {
     "elapsed": 29,
     "status": "ok",
     "timestamp": 1646920281587,
     "user": {
      "displayName": "Иван Людвиг Валерьевич Терешко",
      "photoUrl": "https://lh3.googleusercontent.com/a/default-user=s64",
      "userId": "06095181433871474271"
     },
     "user_tz": -180
    },
    "id": "2EfQk0S2WCB5"
   },
   "outputs": [],
   "source": [
    "ka = kax(x0)\n",
    "kb = kbx(x0)\n",
    "\n",
    "qa = qax(x0)\n",
    "qb = qbx(x0)\n",
    "\n",
    "fa = fax(x0)\n",
    "fb = fbx(x0)"
   ]
  },
  {
   "cell_type": "code",
   "execution_count": 7,
   "metadata": {
    "executionInfo": {
     "elapsed": 27,
     "status": "ok",
     "timestamp": 1646920281588,
     "user": {
      "displayName": "Иван Людвиг Валерьевич Терешко",
      "photoUrl": "https://lh3.googleusercontent.com/a/default-user=s64",
      "userId": "06095181433871474271"
     },
     "user_tz": -180
    },
    "id": "1vjeeD8jWJbu"
   },
   "outputs": [],
   "source": [
    "la = sqrt(qa/ka)\n",
    "lb = sqrt(qb/kb)\n",
    "\n",
    "ma = fa/qa\n",
    "mb = fb/qb"
   ]
  },
  {
   "cell_type": "code",
   "execution_count": 8,
   "metadata": {
    "executionInfo": {
     "elapsed": 26,
     "status": "ok",
     "timestamp": 1646920281588,
     "user": {
      "displayName": "Иван Людвиг Валерьевич Терешко",
      "photoUrl": "https://lh3.googleusercontent.com/a/default-user=s64",
      "userId": "06095181433871474271"
     },
     "user_tz": -180
    },
    "id": "CjFCFZnaWX_e"
   },
   "outputs": [],
   "source": [
    "A11 = exp(-la*x0) - exp(la*x0)\n",
    "A12 = exp(lb*(2-x0)) - exp(lb*x0)\n",
    "A21 = ka*la*(exp(la*x0)+exp(-la*x0))\n",
    "A22 = kb*lb*(exp(lb*(2-x0))+exp(lb*x0))\n",
    "\n",
    "B1 = mb-ma+(ma-u0)*exp(la*x0)-(mb-u1)*exp(lb*(1-x0))\n",
    "B2 = ka*la*(u0-ma)*exp(la*x0)+kb*lb*(u1-mb)*exp(lb*(1-x0))\n",
    "\n",
    "C1 = (A22*(A11*(u0-ma) - B1) - A12*(A21*(u0-ma) - B2))/(A11*A22-A12*A21)\n",
    "C2 = (B1*A22-B2*A12)/(A11*A22-A12*A21)\n",
    "C3 = (B2*A11-B1*A21)/(A11*A22-A12*A21)\n",
    "C4 = exp(lb)*(u1-mb) - C3*exp(2*lb)"
   ]
  },
  {
   "cell_type": "code",
   "execution_count": 9,
   "metadata": {
    "executionInfo": {
     "elapsed": 26,
     "status": "ok",
     "timestamp": 1646920281589,
     "user": {
      "displayName": "Иван Людвиг Валерьевич Терешко",
      "photoUrl": "https://lh3.googleusercontent.com/a/default-user=s64",
      "userId": "06095181433871474271"
     },
     "user_tz": -180
    },
    "id": "q7NZGVwKX4vU"
   },
   "outputs": [],
   "source": [
    "ux = lambda x: C1*exp(la*x)+C2*exp(-la*x)+ma if x<x0 else C3*exp(lb*x)+C4*exp(-lb*x)+mb"
   ]
  },
  {
   "cell_type": "code",
   "execution_count": 10,
   "metadata": {
    "colab": {
     "base_uri": "https://localhost:8080/"
    },
    "executionInfo": {
     "elapsed": 24,
     "status": "ok",
     "timestamp": 1646920281589,
     "user": {
      "displayName": "Иван Людвиг Валерьевич Терешко",
      "photoUrl": "https://lh3.googleusercontent.com/a/default-user=s64",
      "userId": "06095181433871474271"
     },
     "user_tz": -180
    },
    "id": "e1BmFm4VFukk",
    "outputId": "e335b4f0-50a2-44aa-b7a2-22c90cfd6ca0"
   },
   "outputs": [
    {
     "data": {
      "text/plain": [
       "0.1947038686517213"
      ]
     },
     "execution_count": 10,
     "metadata": {},
     "output_type": "execute_result"
    }
   ],
   "source": [
    "ux(0.8)"
   ]
  },
  {
   "cell_type": "code",
   "execution_count": 26,
   "metadata": {
    "executionInfo": {
     "elapsed": 19,
     "status": "ok",
     "timestamp": 1646920281590,
     "user": {
      "displayName": "Иван Людвиг Валерьевич Терешко",
      "photoUrl": "https://lh3.googleusercontent.com/a/default-user=s64",
      "userId": "06095181433871474271"
     },
     "user_tz": -180
    },
    "id": "_qxfAmlcYLhI"
   },
   "outputs": [],
   "source": [
    "# N = 16384\n",
    "N =81921\n",
    "xx = np.linspace(0, 1, N)\n",
    "h = np.diff(xx)[0]"
   ]
  },
  {
   "cell_type": "code",
   "execution_count": 27,
   "metadata": {
    "colab": {
     "base_uri": "https://localhost:8080/",
     "height": 282
    },
    "executionInfo": {
     "elapsed": 484,
     "status": "ok",
     "timestamp": 1646920282057,
     "user": {
      "displayName": "Иван Людвиг Валерьевич Терешко",
      "photoUrl": "https://lh3.googleusercontent.com/a/default-user=s64",
      "userId": "06095181433871474271"
     },
     "user_tz": -180
    },
    "id": "rKg1S0kHYI7i",
    "outputId": "60472183-0521-4079-feee-0d5d482f81a7"
   },
   "outputs": [
    {
     "data": {
      "image/png": "[encoded data removed]",
      "text/plain": [
       "<Figure size 640x480 with 1 Axes>"
      ]
     },
     "metadata": {},
     "output_type": "display_data"
    }
   ],
   "source": [
    "u_an = [ux(x) for x in xx]\n",
    "plt.plot(xx, u_an)\n",
    "plt.show()"
   ]
  },
  {
   "cell_type": "code",
   "execution_count": 28,
   "metadata": {
    "colab": {
     "base_uri": "https://localhost:8080/"
    },
    "executionInfo": {
     "elapsed": 14,
     "status": "ok",
     "timestamp": 1646920282059,
     "user": {
      "displayName": "Иван Людвиг Валерьевич Терешко",
      "photoUrl": "https://lh3.googleusercontent.com/a/default-user=s64",
      "userId": "06095181433871474271"
     },
     "user_tz": -180
    },
    "id": "ygWX7MQqmf4f",
    "outputId": "41d117f4-3cc7-4c76-eff3-9c9d74c0506d"
   },
   "outputs": [
    {
     "data": {
      "text/plain": [
       "True"
      ]
     },
     "execution_count": 28,
     "metadata": {},
     "output_type": "execute_result"
    }
   ],
   "source": [
    "ia = floor(x0/h)\n",
    "ib = ia + 1\n",
    "xx[ia]<=x0<=xx[ib]"
   ]
  },
  {
   "cell_type": "code",
   "execution_count": 29,
   "metadata": {
    "executionInfo": {
     "elapsed": 11,
     "status": "ok",
     "timestamp": 1646920282059,
     "user": {
      "displayName": "Иван Людвиг Валерьевич Терешко",
      "photoUrl": "https://lh3.googleusercontent.com/a/default-user=s64",
      "userId": "06095181433871474271"
     },
     "user_tz": -180
    },
    "id": "4-twLPe1hger"
   },
   "outputs": [],
   "source": [
    "L = len(xx)\n",
    "\n",
    "aс = [0]*L\n",
    "bс = [0]*L\n",
    "cс = [0]*L\n",
    "dс = [0]*L\n",
    "\n",
    "for i in range(1, ia):\n",
    "    aс[i] = ka\n",
    "    bс[i] = -(2*ka)-(qa*(h**2))\n",
    "    cс[i] = ka\n",
    "    dс[i] = -fa*(h**2)\n",
    "\n",
    "for i in range(ib+1, L):\n",
    "    aс[i] = kb\n",
    "    bс[i] = -(2*kb)-(qb*(h**2))\n",
    "    cс[i] = kb\n",
    "    dс[i] = -fb*(h**2)"
   ]
  },
  {
   "cell_type": "code",
   "execution_count": 30,
   "metadata": {
    "executionInfo": {
     "elapsed": 12,
     "status": "ok",
     "timestamp": 1646920282060,
     "user": {
      "displayName": "Иван Людвиг Валерьевич Терешко",
      "photoUrl": "https://lh3.googleusercontent.com/a/default-user=s64",
      "userId": "06095181433871474271"
     },
     "user_tz": -180
    },
    "id": "KE5Qh95ujiX8"
   },
   "outputs": [],
   "source": [
    "def thompson(a, b, c, d):\n",
    "    alpha = [0]*L\n",
    "    beta = [0]*L\n",
    "\n",
    "    alpha[1] = -a[1]/b[1]\n",
    "    beta[1] = (d[1]-(c[1]*u0))/b[1]\n",
    "\n",
    "    alpha[L-1] = -c[L-1]/b[L-1]\n",
    "    beta[L-1] = (d[L-1]-(c[L-1]*u1))/b[L-1]\n",
    "\n",
    "    for i in range(2, ia):\n",
    "        alpha[i] = -a[i] / (b[i]+(c[i]*alpha[i-1]))\n",
    "        beta[i] = (d[i]-(c[i]*beta[i-1])) / (b[i]+(c[i]*alpha[i-1]))\n",
    "\n",
    "    for i in range(L-2, ib, -1):\n",
    "        alpha[i] = -c[i] / (b[i]+(a[i]*alpha[i+1]))\n",
    "        beta[i] = (d[i]-(a[i]*beta[i+1])) / (b[i]+(a[i]*alpha[i+1]))\n",
    "\n",
    "    u = [0]*N\n",
    "    u[0]=u0\n",
    "    u[N-1]=u1\n",
    "\n",
    "    u[ia]=((ka*beta[ia-1]) + (kb*beta[ib+1])) / ((ka*(1-alpha[ia-1])) + (kb*(1-alpha[ib+1])))\n",
    "    u[ib] = u[ia]\n",
    "    u[ia-1] = (alpha[ia-1]*u[ia]) + beta[ia-1]\n",
    "    u[ib+1] = (alpha[ib+1]*u[ib]) + beta[ib+1]\n",
    "\n",
    "\n",
    "    for i in range(ia-1, 0, -1):\n",
    "        u[i] = (alpha[i]*u[i+1]) + beta[i]\n",
    "\n",
    "    for i in range(ib+1, N):\n",
    "        u[i] = (alpha[i]*u[i-1]) + beta[i]\n",
    "\n",
    "    return u"
   ]
  },
  {
   "cell_type": "code",
   "execution_count": 31,
   "metadata": {
    "colab": {
     "base_uri": "https://localhost:8080/",
     "height": 282
    },
    "executionInfo": {
     "elapsed": 436,
     "status": "ok",
     "timestamp": 1646920282485,
     "user": {
      "displayName": "Иван Людвиг Валерьевич Терешко",
      "photoUrl": "https://lh3.googleusercontent.com/a/default-user=s64",
      "userId": "06095181433871474271"
     },
     "user_tz": -180
    },
    "id": "hOU699SojWCe",
    "outputId": "80f25c0e-89ce-4ea0-a0a9-f6599863b69d"
   },
   "outputs": [
    {
     "data": {
      "image/png": "[encoded data removed]",
      "text/plain": [
       "<Figure size 640x480 with 1 Axes>"
      ]
     },
     "metadata": {},
     "output_type": "display_data"
    }
   ],
   "source": [
    "u_const = thompson(aс, bс, cс, dс)\n",
    "plt.plot(xx, u_const)\n",
    "plt.show()"
   ]
  },
  {
   "cell_type": "code",
   "execution_count": 32,
   "metadata": {
    "executionInfo": {
     "elapsed": 368,
     "status": "ok",
     "timestamp": 1646920282849,
     "user": {
      "displayName": "Иван Людвиг Валерьевич Терешко",
      "photoUrl": "https://lh3.googleusercontent.com/a/default-user=s64",
      "userId": "06095181433871474271"
     },
     "user_tz": -180
    },
    "id": "qii1hFVoNb2f"
   },
   "outputs": [],
   "source": [
    "L = len(xx) + 1\n",
    "\n",
    "av = [0]*L\n",
    "bv = [0]*L\n",
    "cv = [0]*L\n",
    "dv = [0]*L\n",
    "\n",
    "for i in range(1, ia):\n",
    "    av[i] = kax(i*h + h/2)\n",
    "    bv[i] = -kax(i*h + h/2)-kax(i*h - h/2)-qax(i*h)*(h**2)\n",
    "    cv[i] = kax(i*h - h/2)\n",
    "    dv[i] = -fax(i*h)*(h**2)\n",
    "\n",
    "for i in range(ib+1, L):\n",
    "    av[i] = kbx(i*h + h/2)\n",
    "    bv[i] = -kbx(i*h + h/2)-kbx(i*h - h/2)-qbx(i*h)*(h**2)\n",
    "    cv[i] = kbx(i*h - h/2)\n",
    "    dv[i] = -fbx(i*h)*(h**2)"
   ]
  },
  {
   "cell_type": "code",
   "execution_count": 33,
   "metadata": {
    "colab": {
     "base_uri": "https://localhost:8080/",
     "height": 282
    },
    "executionInfo": {
     "elapsed": 618,
     "status": "ok",
     "timestamp": 1646920283464,
     "user": {
      "displayName": "Иван Людвиг Валерьевич Терешко",
      "photoUrl": "https://lh3.googleusercontent.com/a/default-user=s64",
      "userId": "06095181433871474271"
     },
     "user_tz": -180
    },
    "id": "zc4oM4_GPfWT",
    "outputId": "3bef6e23-f85f-48fa-de6f-567b98bd0646"
   },
   "outputs": [
    {
     "data": {
      "image/png": "[encoded data removed]",
      "text/plain": [
       "<Figure size 640x480 with 1 Axes>"
      ]
     },
     "metadata": {},
     "output_type": "display_data"
    }
   ],
   "source": [
    "u_var = thompson(av, bv, cv, dv)\n",
    "plt.plot(xx, u_var)\n",
    "plt.show()"
   ]
  },
  {
   "cell_type": "code",
   "execution_count": 34,
   "metadata": {
    "colab": {
     "base_uri": "https://localhost:8080/",
     "height": 174
    },
    "executionInfo": {
     "elapsed": 27,
     "status": "ok",
     "timestamp": 1646920283464,
     "user": {
      "displayName": "Иван Людвиг Валерьевич Терешко",
      "photoUrl": "https://lh3.googleusercontent.com/a/default-user=s64",
      "userId": "06095181433871474271"
     },
     "user_tz": -180
    },
    "id": "ELDU3O-yP6-t",
    "outputId": "c94b45e3-5247-4591-93cb-08057c0957e6"
   },
   "outputs": [
    {
     "data": {
      "text/html": [
       "<div>\n",
       "<style scoped>\n",
       "    .dataframe tbody tr th:only-of-type {\n",
       "        vertical-align: middle;\n",
       "    }\n",
       "\n",
       "    .dataframe tbody tr th {\n",
       "        vertical-align: top;\n",
       "    }\n",
       "\n",
       "    .dataframe thead th {\n",
       "        text-align: right;\n",
       "    }\n",
       "</style>\n",
       "<table border=\"1\" class=\"dataframe\">\n",
       "  <thead>\n",
       "    <tr style=\"text-align: right;\">\n",
       "      <th></th>\n",
       "      <th>0</th>\n",
       "      <th>1</th>\n",
       "      <th>2</th>\n",
       "      <th>3</th>\n",
       "      <th>4</th>\n",
       "      <th>5</th>\n",
       "      <th>6</th>\n",
       "      <th>7</th>\n",
       "      <th>8</th>\n",
       "      <th>9</th>\n",
       "      <th>10</th>\n",
       "    </tr>\n",
       "  </thead>\n",
       "  <tbody>\n",
       "    <tr>\n",
       "      <th>x</th>\n",
       "      <td>0.0</td>\n",
       "      <td>1.000000e-01</td>\n",
       "      <td>2.000000e-01</td>\n",
       "      <td>0.300000</td>\n",
       "      <td>0.400000</td>\n",
       "      <td>0.500000</td>\n",
       "      <td>0.600000</td>\n",
       "      <td>0.700000</td>\n",
       "      <td>0.800000</td>\n",
       "      <td>0.900000</td>\n",
       "      <td>1.000000e+00</td>\n",
       "    </tr>\n",
       "    <tr>\n",
       "      <th>u_const</th>\n",
       "      <td>1.0</td>\n",
       "      <td>9.349437e-01</td>\n",
       "      <td>8.589465e-01</td>\n",
       "      <td>0.771248</td>\n",
       "      <td>0.670970</td>\n",
       "      <td>0.557110</td>\n",
       "      <td>0.428527</td>\n",
       "      <td>0.283935</td>\n",
       "      <td>0.194713</td>\n",
       "      <td>0.102130</td>\n",
       "      <td>1.308970e-05</td>\n",
       "    </tr>\n",
       "    <tr>\n",
       "      <th>u_an</th>\n",
       "      <td>1.0</td>\n",
       "      <td>9.349441e-01</td>\n",
       "      <td>8.589475e-01</td>\n",
       "      <td>0.771249</td>\n",
       "      <td>0.670972</td>\n",
       "      <td>0.557112</td>\n",
       "      <td>0.428530</td>\n",
       "      <td>0.283938</td>\n",
       "      <td>0.194704</td>\n",
       "      <td>0.102119</td>\n",
       "      <td>2.220446e-16</td>\n",
       "    </tr>\n",
       "    <tr>\n",
       "      <th>d</th>\n",
       "      <td>0.0</td>\n",
       "      <td>4.706481e-07</td>\n",
       "      <td>9.549573e-07</td>\n",
       "      <td>0.000001</td>\n",
       "      <td>0.000002</td>\n",
       "      <td>0.000003</td>\n",
       "      <td>0.000003</td>\n",
       "      <td>0.000004</td>\n",
       "      <td>0.000009</td>\n",
       "      <td>0.000011</td>\n",
       "      <td>1.308970e-05</td>\n",
       "    </tr>\n",
       "  </tbody>\n",
       "</table>\n",
       "</div>"
      ],
      "text/plain": [
       "           0             1             2         3         4         5  \\\n",
       "x        0.0  1.000000e-01  2.000000e-01  0.300000  0.400000  0.500000   \n",
       "u_const  1.0  9.349437e-01  8.589465e-01  0.771248  0.670970  0.557110   \n",
       "u_an     1.0  9.349441e-01  8.589475e-01  0.771249  0.670972  0.557112   \n",
       "d        0.0  4.706481e-07  9.549573e-07  0.000001  0.000002  0.000003   \n",
       "\n",
       "                6         7         8         9            10  \n",
       "x        0.600000  0.700000  0.800000  0.900000  1.000000e+00  \n",
       "u_const  0.428527  0.283935  0.194713  0.102130  1.308970e-05  \n",
       "u_an     0.428530  0.283938  0.194704  0.102119  2.220446e-16  \n",
       "d        0.000003  0.000004  0.000009  0.000011  1.308970e-05  "
      ]
     },
     "execution_count": 34,
     "metadata": {},
     "output_type": "execute_result"
    }
   ],
   "source": [
    "n = N//10\n",
    "diffc = [abs(u1 - u2) for u1, u2 in zip(u_const, u_an)]\n",
    "pd.DataFrame({'x': xx[::n], 'u_const': u_const[::n], 'u_an': u_an[::n], 'd': diffc[::n]}).T"
   ]
  },
  {
   "cell_type": "code",
   "execution_count": 35,
   "metadata": {
    "colab": {
     "base_uri": "https://localhost:8080/"
    },
    "executionInfo": {
     "elapsed": 27,
     "status": "ok",
     "timestamp": 1646920283466,
     "user": {
      "displayName": "Иван Людвиг Валерьевич Терешко",
      "photoUrl": "https://lh3.googleusercontent.com/a/default-user=s64",
      "userId": "06095181433871474271"
     },
     "user_tz": -180
    },
    "id": "si1BINThZZ2n",
    "outputId": "12cc37b0-d0e6-4cee-cf26-d8c820fb1f36"
   },
   "outputs": [
    {
     "data": {
      "text/plain": [
       "1.3089698736157831e-05"
      ]
     },
     "execution_count": 35,
     "metadata": {},
     "output_type": "execute_result"
    }
   ],
   "source": [
    "max(diffc)"
   ]
  },
  {
   "cell_type": "code",
   "execution_count": 37,
   "metadata": {
    "colab": {
     "base_uri": "https://localhost:8080/",
     "height": 174
    },
    "executionInfo": {
     "elapsed": 23,
     "status": "ok",
     "timestamp": 1646920283468,
     "user": {
      "displayName": "Иван Людвиг Валерьевич Терешко",
      "photoUrl": "https://lh3.googleusercontent.com/a/default-user=s64",
      "userId": "06095181433871474271"
     },
     "user_tz": -180
    },
    "id": "Txk1IzFaZcQc",
    "outputId": "60cfd750-1351-4475-fe8b-a143335407aa"
   },
   "outputs": [
    {
     "data": {
      "text/html": [
       "<div>\n",
       "<style scoped>\n",
       "    .dataframe tbody tr th:only-of-type {\n",
       "        vertical-align: middle;\n",
       "    }\n",
       "\n",
       "    .dataframe tbody tr th {\n",
       "        vertical-align: top;\n",
       "    }\n",
       "\n",
       "    .dataframe thead th {\n",
       "        text-align: right;\n",
       "    }\n",
       "</style>\n",
       "<table border=\"1\" class=\"dataframe\">\n",
       "  <thead>\n",
       "    <tr style=\"text-align: right;\">\n",
       "      <th></th>\n",
       "      <th>0</th>\n",
       "      <th>1</th>\n",
       "      <th>2</th>\n",
       "      <th>3</th>\n",
       "      <th>4</th>\n",
       "      <th>5</th>\n",
       "      <th>6</th>\n",
       "      <th>7</th>\n",
       "      <th>8</th>\n",
       "      <th>9</th>\n",
       "      <th>10</th>\n",
       "    </tr>\n",
       "  </thead>\n",
       "  <tbody>\n",
       "    <tr>\n",
       "      <th>x</th>\n",
       "      <td>0.0</td>\n",
       "      <td>0.100000</td>\n",
       "      <td>0.200000</td>\n",
       "      <td>0.300000</td>\n",
       "      <td>0.400000</td>\n",
       "      <td>0.500000</td>\n",
       "      <td>0.600000</td>\n",
       "      <td>0.700000</td>\n",
       "      <td>0.800000</td>\n",
       "      <td>0.900000</td>\n",
       "      <td>1.000000e+00</td>\n",
       "    </tr>\n",
       "    <tr>\n",
       "      <th>u_var</th>\n",
       "      <td>1.0</td>\n",
       "      <td>0.910119</td>\n",
       "      <td>0.818278</td>\n",
       "      <td>0.722391</td>\n",
       "      <td>0.620213</td>\n",
       "      <td>0.509299</td>\n",
       "      <td>0.386968</td>\n",
       "      <td>0.250258</td>\n",
       "      <td>0.167794</td>\n",
       "      <td>0.086536</td>\n",
       "      <td>2.189332e-05</td>\n",
       "    </tr>\n",
       "    <tr>\n",
       "      <th>u_an</th>\n",
       "      <td>1.0</td>\n",
       "      <td>0.934944</td>\n",
       "      <td>0.858947</td>\n",
       "      <td>0.771249</td>\n",
       "      <td>0.670972</td>\n",
       "      <td>0.557112</td>\n",
       "      <td>0.428530</td>\n",
       "      <td>0.283938</td>\n",
       "      <td>0.194704</td>\n",
       "      <td>0.102119</td>\n",
       "      <td>2.220446e-16</td>\n",
       "    </tr>\n",
       "    <tr>\n",
       "      <th>d</th>\n",
       "      <td>0.0</td>\n",
       "      <td>0.024825</td>\n",
       "      <td>0.040670</td>\n",
       "      <td>0.048859</td>\n",
       "      <td>0.050759</td>\n",
       "      <td>0.047813</td>\n",
       "      <td>0.041562</td>\n",
       "      <td>0.033680</td>\n",
       "      <td>0.026910</td>\n",
       "      <td>0.015583</td>\n",
       "      <td>2.189332e-05</td>\n",
       "    </tr>\n",
       "  </tbody>\n",
       "</table>\n",
       "</div>"
      ],
      "text/plain": [
       "         0         1         2         3         4         5         6  \\\n",
       "x      0.0  0.100000  0.200000  0.300000  0.400000  0.500000  0.600000   \n",
       "u_var  1.0  0.910119  0.818278  0.722391  0.620213  0.509299  0.386968   \n",
       "u_an   1.0  0.934944  0.858947  0.771249  0.670972  0.557112  0.428530   \n",
       "d      0.0  0.024825  0.040670  0.048859  0.050759  0.047813  0.041562   \n",
       "\n",
       "              7         8         9            10  \n",
       "x      0.700000  0.800000  0.900000  1.000000e+00  \n",
       "u_var  0.250258  0.167794  0.086536  2.189332e-05  \n",
       "u_an   0.283938  0.194704  0.102119  2.220446e-16  \n",
       "d      0.033680  0.026910  0.015583  2.189332e-05  "
      ]
     },
     "execution_count": 37,
     "metadata": {},
     "output_type": "execute_result"
    }
   ],
   "source": [
    "n = N//10\n",
    "diffv = [abs(u1 - u2) for u1, u2 in zip(u_var, u_an)]\n",
    "pd.DataFrame({'x': xx[::n], 'u_var': u_var[::n], 'u_an': u_an[::n], 'd': diffv[::n]}).T"
   ]
  },
  {
   "cell_type": "code",
   "execution_count": 38,
   "metadata": {
    "colab": {
     "base_uri": "https://localhost:8080/"
    },
    "executionInfo": {
     "elapsed": 23,
     "status": "ok",
     "timestamp": 1646920283469,
     "user": {
      "displayName": "Иван Людвиг Валерьевич Терешко",
      "photoUrl": "https://lh3.googleusercontent.com/a/default-user=s64",
      "userId": "06095181433871474271"
     },
     "user_tz": -180
    },
    "id": "-N6DjBj0ZfkT",
    "outputId": "f253bfd8-2eed-4143-abfb-1bf102f638d2"
   },
   "outputs": [
    {
     "data": {
      "text/plain": [
       "0.05075920428222336"
      ]
     },
     "execution_count": 38,
     "metadata": {},
     "output_type": "execute_result"
    }
   ],
   "source": [
    "max(diffv[::n])"
   ]
  },
  {
   "cell_type": "code",
   "execution_count": null,
   "metadata": {},
   "outputs": [],
   "source": []
  }
 ],
 "metadata": {
  "colab": {
   "authorship_tag": "ABX9TyPKSELWappZT4q5QIH5XHRg",
   "collapsed_sections": [],
   "name": "llab2.ipynb",
   "provenance": []
  },
  "kernelspec": {
   "display_name": "Python 3",
   "language": "python",
   "name": "python3"
  },
  "language_info": {
   "codemirror_mode": {
    "name": "ipython",
    "version": 3
   },
   "file_extension": ".py",
   "mimetype": "text/x-python",
   "name": "python",
   "nbconvert_exporter": "python",
   "pygments_lexer": "ipython3",
   "version": "3.8.3"
  }
 },
 "nbformat": 4,
 "nbformat_minor": 1
}
