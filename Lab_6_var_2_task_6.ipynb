{
 "cells": [
  {
   "cell_type": "code",
   "execution_count": 1,
   "metadata": {
    "id": "XfBoG2JByIKg"
   },
   "outputs": [],
   "source": [
    "from math import *\n",
    "import numpy as np\n",
    "import pandas as pd\n",
    "import matplotlib.pyplot as plt"
   ]
  },
  {
   "cell_type": "code",
   "execution_count": 2,
   "metadata": {
    "id": "oakYTcISyNiY"
   },
   "outputs": [],
   "source": [
    "u_an = lambda t, r, th: (r**2)*(sin(th)**2)/(7-6*t)"
   ]
  },
  {
   "cell_type": "markdown",
   "metadata": {},
   "source": [
    "Считаем, что N=200, L=20, M=20:"
   ]
  },
  {
   "cell_type": "code",
   "execution_count": 3,
   "metadata": {
    "id": "XBgKCnO_yehF"
   },
   "outputs": [],
   "source": [
    "N = 200\n",
    "L = 20\n",
    "M = 20\n",
    "\n",
    "C = 7\n",
    "mu = 1\n",
    "\n",
    "tt = np.linspace(0, 1, N+1)\n",
    "rr = np.linspace(0, 1, L+1)\n",
    "thth = np.linspace(0, pi/2, M+1)\n",
    "\n",
    "tau = np.diff(tt)[0]\n",
    "hr = np.diff(rr)[0]\n",
    "hth = np.diff(thth)[0]"
   ]
  },
  {
   "cell_type": "code",
   "execution_count": 4,
   "metadata": {
    "id": "OojVQlRmLIBR"
   },
   "outputs": [],
   "source": [
    "def solveTriangleSlae(a, b, c, d):\n",
    "    n = len(b)\n",
    "    p, q = np.zeros(n), np.zeros(n)\n",
    "    c = c + [0]\n",
    "    p[0] = c[0] / b[0]\n",
    "    q[0] = d[0] / b[0]\n",
    "    for i in range(1, n):\n",
    "        p[i] = c[i] / (b[i] - (a[i - 1] * p[i - 1]))\n",
    "        q[i] = (d[i] - (a[i - 1] * q[i - 1])) / (b[i] - (a[i - 1]*p[i - 1]))\n",
    "\n",
    "    x = np.zeros(n)\n",
    "    m = n - 1\n",
    "\n",
    "    x[m] = q[-1]\n",
    "    for i in range(n - 2, -1, -1):\n",
    "        x[i] = q[i] - (x[i + 1] * p[i])\n",
    "    return x\n",
    "    x = np.zeros(n)\n",
    "    m = n - 1\n",
    "\n",
    "    x[m] = q[-1]\n",
    "    for i in range(n - 2, -1, -1):\n",
    "        x[i] = q[i] - (x[i + 1] * p[i])\n",
    "    return x"
   ]
  },
  {
   "cell_type": "code",
   "execution_count": 5,
   "metadata": {
    "id": "SBsel58vzAf_"
   },
   "outputs": [],
   "source": [
    "u = np.zeros([N+1, L+1, M+1])\n",
    "\n",
    "# u[:, L, :] = [[sin(thth[m]) / sqrt(7 - 6*t) for m in range(M+1)] for t in tt]\n",
    "# u[:, :, M] = [[rr[l] / sqrt(7 - 6*t) for l in range(L+1)] for t in tt]\n",
    "# u[0, :, :] = [[r*sin(th)/sqrt(7) for th in thth] for r in rr]\n",
    "\n",
    "u[0] = [[(r**2)*(cos(th)**2)/7 for th in thth] for r in rr]\n",
    "\n",
    "def step1(n, k, u_prev):\n",
    "    wavyu = np.zeros([L+1, M+1])\n",
    "    wavyu[0, :] = np.zeros([M+1])\n",
    "    wavyu[L, :] = [sin(thth[m])**2 / (7 - 6*tt[n+1]) for m in range(M+1)]\n",
    "    wavyu[:, 0] = np.zeros([L+1])\n",
    "    wavyu[:, M] = [rr[l]**2 / (7 - 6*tt[n+1]) for l in range(L+1)]\n",
    "    for m in range(1, M):\n",
    "        a = [0] + [- (rr[l] + hr/2) * ((u_prev[l+1][m]) + (u_prev[l][m])) * tau / (2 * rr[l]*(hr**2)) for l in range(1, L)]\n",
    "        c = [- (rr[l] - hr/2) * ((u_prev[l][m]) + (u_prev[l-1][m])) * tau / (2 * rr[l]*(hr**2)) for l in range(1, L)] + [0]\n",
    "        b = [1] + [1 - a[l] - c[l-1] for l in range(1, L)] + [1]\n",
    "        d = [0] + [u[n][l][m] for l in range(1, L)] + [(sin(thth[m])**2)/(7-6*tt[n+1])]\n",
    "\n",
    "        # A = np.diagflat(a, 1) + np.diagflat(b) + np.diagflat(c, -1)\n",
    "        # f = np.linalg.solve(A, d)\n",
    "\n",
    "        f = solveTriangleSlae(c, b, a, d)\n",
    "        wavyu[:, m] = f\n",
    "    return wavyu\n",
    "\n",
    "def step2(n, k, u_prev, wavyu):\n",
    "    u_curr = np.zeros([L+1, M+1])\n",
    "    u_curr[0, :] = np.zeros([M+1])\n",
    "    u_curr[L, :] = [sin(thth[m])**2 / (7 - 6*tt[n+1]) for m in range(M+1)]\n",
    "    u_curr[:, 0] = np.zeros([L+1])\n",
    "    u_curr[:, M] = [rr[l]**2 / (7 - 6*tt[n+1]) for l in range(L+1)]\n",
    "    for l in range(1, L):\n",
    "        a = [0] + [- (u_prev[l][m+1] + u_prev[l][m]) * tau / (2 * (rr[l]**2)*(hth**2)) for m in range(1, M)]\n",
    "        c = [-(u_prev[l][m] + u_prev[l][m-1]) * tau / (2 * (rr[l]**2)*(hth**2)) for m in range(1, M)] + [0]\n",
    "        b = [1] + [1 - a[m] - c[m-1] for m in range(1, M)] + [1]\n",
    "        d = [0] + [wavyu[l][m] for m in range(1, M)] + [(rr[l]**2)/(7-6*tt[n+1])]\n",
    "\n",
    "        # A = np.diagflat(a, 1) + np.diagflat(b) + np.diagflat(c, -1)\n",
    "        # f = np.linalg.solve(A, d)\n",
    "\n",
    "        f = solveTriangleSlae(c, b, a, d)\n",
    "        u_curr[l, :] = f\n",
    "    return u_curr\n",
    "\n",
    "for n in range(N):\n",
    "    k = 0\n",
    "    u_prev = u[n]\n",
    "    u_curr = u[n]\n",
    "    while True:\n",
    "        u_prev, u_curr = u_curr, u_prev\n",
    "        wavyu = step1(n, k, u_prev)\n",
    "        u_curr = step2(n, k, u_prev, wavyu)\n",
    "        if(max([abs( (u_curr[l][m] - u_prev[l][m]) / u_curr[l][m]  ) for l, m in zip(range(1, L), range(1, M))]) < 1e-4):\n",
    "            break\n",
    "        k += 1\n",
    "\n",
    "    u[n+1] = u_curr"
   ]
  },
  {
   "cell_type": "code",
   "execution_count": 6,
   "metadata": {
    "colab": {
     "base_uri": "https://localhost:8080/"
    },
    "id": "ySIzZPlSIDqQ",
    "outputId": "c586ee85-3d6b-4ae0-82af-aa0d05dfc469",
    "scrolled": true
   },
   "outputs": [
    {
     "data": {
      "text/plain": [
       "0.0037763047417528704"
      ]
     },
     "execution_count": 6,
     "metadata": {},
     "output_type": "execute_result"
    }
   ],
   "source": [
    "d = 0\n",
    "n = N\n",
    "d = max([abs(u_an(tt[n], rr[l], thth[m]) - u[n][l][m]) for l, m in zip(range(0, L+1), range(0, M+1))])\n",
    "\n",
    "d"
   ]
  },
  {
   "cell_type": "code",
   "execution_count": 7,
   "metadata": {
    "colab": {
     "base_uri": "https://localhost:8080/",
     "height": 174
    },
    "id": "b7yo3qilMwZc",
    "outputId": "be9c7097-b736-462b-d66b-4bdd88e80b8e"
   },
   "outputs": [
    {
     "data": {
      "text/html": [
       "<div>\n",
       "<style scoped>\n",
       "    .dataframe tbody tr th:only-of-type {\n",
       "        vertical-align: middle;\n",
       "    }\n",
       "\n",
       "    .dataframe tbody tr th {\n",
       "        vertical-align: top;\n",
       "    }\n",
       "\n",
       "    .dataframe thead th {\n",
       "        text-align: right;\n",
       "    }\n",
       "</style>\n",
       "<table border=\"1\" class=\"dataframe\">\n",
       "  <thead>\n",
       "    <tr style=\"text-align: right;\">\n",
       "      <th></th>\n",
       "      <th>0</th>\n",
       "      <th>1</th>\n",
       "      <th>2</th>\n",
       "      <th>3</th>\n",
       "      <th>4</th>\n",
       "      <th>5</th>\n",
       "      <th>6</th>\n",
       "      <th>7</th>\n",
       "      <th>8</th>\n",
       "      <th>9</th>\n",
       "      <th>10</th>\n",
       "    </tr>\n",
       "  </thead>\n",
       "  <tbody>\n",
       "    <tr>\n",
       "      <th>r</th>\n",
       "      <td>0.0</td>\n",
       "      <td>0.100000</td>\n",
       "      <td>0.200000</td>\n",
       "      <td>0.300000</td>\n",
       "      <td>0.400000</td>\n",
       "      <td>0.500000</td>\n",
       "      <td>0.600000</td>\n",
       "      <td>0.700000</td>\n",
       "      <td>0.800000</td>\n",
       "      <td>0.900000</td>\n",
       "      <td>1.0</td>\n",
       "    </tr>\n",
       "    <tr>\n",
       "      <th>u</th>\n",
       "      <td>0.0</td>\n",
       "      <td>0.003928</td>\n",
       "      <td>0.017691</td>\n",
       "      <td>0.044038</td>\n",
       "      <td>0.080989</td>\n",
       "      <td>0.127426</td>\n",
       "      <td>0.183234</td>\n",
       "      <td>0.248612</td>\n",
       "      <td>0.323808</td>\n",
       "      <td>0.409033</td>\n",
       "      <td>0.5</td>\n",
       "    </tr>\n",
       "    <tr>\n",
       "      <th>u*</th>\n",
       "      <td>0.0</td>\n",
       "      <td>0.005000</td>\n",
       "      <td>0.020000</td>\n",
       "      <td>0.045000</td>\n",
       "      <td>0.080000</td>\n",
       "      <td>0.125000</td>\n",
       "      <td>0.180000</td>\n",
       "      <td>0.245000</td>\n",
       "      <td>0.320000</td>\n",
       "      <td>0.405000</td>\n",
       "      <td>0.5</td>\n",
       "    </tr>\n",
       "    <tr>\n",
       "      <th>d</th>\n",
       "      <td>0.0</td>\n",
       "      <td>0.001072</td>\n",
       "      <td>0.002309</td>\n",
       "      <td>0.000962</td>\n",
       "      <td>0.000989</td>\n",
       "      <td>0.002426</td>\n",
       "      <td>0.003234</td>\n",
       "      <td>0.003612</td>\n",
       "      <td>0.003808</td>\n",
       "      <td>0.004033</td>\n",
       "      <td>0.0</td>\n",
       "    </tr>\n",
       "  </tbody>\n",
       "</table>\n",
       "</div>"
      ],
      "text/plain": [
       "      0         1         2         3         4         5         6         7  \\\n",
       "r   0.0  0.100000  0.200000  0.300000  0.400000  0.500000  0.600000  0.700000   \n",
       "u   0.0  0.003928  0.017691  0.044038  0.080989  0.127426  0.183234  0.248612   \n",
       "u*  0.0  0.005000  0.020000  0.045000  0.080000  0.125000  0.180000  0.245000   \n",
       "d   0.0  0.001072  0.002309  0.000962  0.000989  0.002426  0.003234  0.003612   \n",
       "\n",
       "           8         9   10  \n",
       "r   0.800000  0.900000  1.0  \n",
       "u   0.323808  0.409033  0.5  \n",
       "u*  0.320000  0.405000  0.5  \n",
       "d   0.003808  0.004033  0.0  "
      ]
     },
     "execution_count": 7,
     "metadata": {},
     "output_type": "execute_result"
    }
   ],
   "source": [
    "nl = (L+1)//10\n",
    "\n",
    "n = N\n",
    "m = M//2\n",
    "\n",
    "u_n = u[n, ::nl, m]\n",
    "u_an_n = np.array([u_an(tt[n], r, thth[m]) for r in rr[::nl]])\n",
    "\n",
    "d = abs(u_n - u_an_n)\n",
    "\n",
    "pd.DataFrame({'r': rr[::nl], 'u': u_n, 'u*': u_an_n, 'd': d}).T"
   ]
  },
  {
   "cell_type": "code",
   "execution_count": 8,
   "metadata": {
    "colab": {
     "base_uri": "https://localhost:8080/",
     "height": 174
    },
    "id": "KSCuVVBuRcqp",
    "outputId": "81b2a19b-094c-4a79-db59-974e241296ea"
   },
   "outputs": [
    {
     "data": {
      "text/html": [
       "<div>\n",
       "<style scoped>\n",
       "    .dataframe tbody tr th:only-of-type {\n",
       "        vertical-align: middle;\n",
       "    }\n",
       "\n",
       "    .dataframe tbody tr th {\n",
       "        vertical-align: top;\n",
       "    }\n",
       "\n",
       "    .dataframe thead th {\n",
       "        text-align: right;\n",
       "    }\n",
       "</style>\n",
       "<table border=\"1\" class=\"dataframe\">\n",
       "  <thead>\n",
       "    <tr style=\"text-align: right;\">\n",
       "      <th></th>\n",
       "      <th>0</th>\n",
       "      <th>1</th>\n",
       "      <th>2</th>\n",
       "      <th>3</th>\n",
       "      <th>4</th>\n",
       "      <th>5</th>\n",
       "      <th>6</th>\n",
       "      <th>7</th>\n",
       "      <th>8</th>\n",
       "      <th>9</th>\n",
       "      <th>10</th>\n",
       "    </tr>\n",
       "  </thead>\n",
       "  <tbody>\n",
       "    <tr>\n",
       "      <th>theta</th>\n",
       "      <td>0.0</td>\n",
       "      <td>0.157080</td>\n",
       "      <td>0.314159</td>\n",
       "      <td>0.471239</td>\n",
       "      <td>0.628319</td>\n",
       "      <td>0.785398</td>\n",
       "      <td>0.942478</td>\n",
       "      <td>1.099557</td>\n",
       "      <td>1.256637</td>\n",
       "      <td>1.413717</td>\n",
       "      <td>1.570796</td>\n",
       "    </tr>\n",
       "    <tr>\n",
       "      <th>u</th>\n",
       "      <td>0.0</td>\n",
       "      <td>0.022595</td>\n",
       "      <td>0.037135</td>\n",
       "      <td>0.059055</td>\n",
       "      <td>0.090269</td>\n",
       "      <td>0.127426</td>\n",
       "      <td>0.165743</td>\n",
       "      <td>0.200679</td>\n",
       "      <td>0.228321</td>\n",
       "      <td>0.245526</td>\n",
       "      <td>0.250000</td>\n",
       "    </tr>\n",
       "    <tr>\n",
       "      <th>u*</th>\n",
       "      <td>0.0</td>\n",
       "      <td>0.006118</td>\n",
       "      <td>0.023873</td>\n",
       "      <td>0.051527</td>\n",
       "      <td>0.086373</td>\n",
       "      <td>0.125000</td>\n",
       "      <td>0.163627</td>\n",
       "      <td>0.198473</td>\n",
       "      <td>0.226127</td>\n",
       "      <td>0.243882</td>\n",
       "      <td>0.250000</td>\n",
       "    </tr>\n",
       "    <tr>\n",
       "      <th>d</th>\n",
       "      <td>0.0</td>\n",
       "      <td>0.016477</td>\n",
       "      <td>0.013262</td>\n",
       "      <td>0.007528</td>\n",
       "      <td>0.003896</td>\n",
       "      <td>0.002426</td>\n",
       "      <td>0.002116</td>\n",
       "      <td>0.002206</td>\n",
       "      <td>0.002194</td>\n",
       "      <td>0.001644</td>\n",
       "      <td>0.000000</td>\n",
       "    </tr>\n",
       "  </tbody>\n",
       "</table>\n",
       "</div>"
      ],
      "text/plain": [
       "         0         1         2         3         4         5         6  \\\n",
       "theta  0.0  0.157080  0.314159  0.471239  0.628319  0.785398  0.942478   \n",
       "u      0.0  0.022595  0.037135  0.059055  0.090269  0.127426  0.165743   \n",
       "u*     0.0  0.006118  0.023873  0.051527  0.086373  0.125000  0.163627   \n",
       "d      0.0  0.016477  0.013262  0.007528  0.003896  0.002426  0.002116   \n",
       "\n",
       "              7         8         9        10  \n",
       "theta  1.099557  1.256637  1.413717  1.570796  \n",
       "u      0.200679  0.228321  0.245526  0.250000  \n",
       "u*     0.198473  0.226127  0.243882  0.250000  \n",
       "d      0.002206  0.002194  0.001644  0.000000  "
      ]
     },
     "execution_count": 8,
     "metadata": {},
     "output_type": "execute_result"
    }
   ],
   "source": [
    "nm = (M+1)//10\n",
    "\n",
    "n = N\n",
    "l = L//2\n",
    "\n",
    "u_n = u[n, l, ::nm]\n",
    "u_an_n = np.array([u_an(tt[n], rr[l], th) for th in thth[::nm]])\n",
    "\n",
    "d = abs(u_n - u_an_n)\n",
    "\n",
    "pd.DataFrame({'theta': thth[::nm], 'u': u_n, 'u*': u_an_n, 'd': d}).T"
   ]
  },
  {
   "cell_type": "code",
   "execution_count": 9,
   "metadata": {
    "colab": {
     "base_uri": "https://localhost:8080/",
     "height": 286
    },
    "id": "IyhIE8zgND4m",
    "outputId": "cda306a6-7ea2-4bb8-f7e8-368e77518680"
   },
   "outputs": [
    {
     "data": {
      "image/png": "[encoded data removed]",
      "text/plain": [
       "<Figure size 640x480 with 1 Axes>"
      ]
     },
     "metadata": {},
     "output_type": "display_data"
    }
   ],
   "source": [
    "r, th = np.meshgrid(rr, thth)\n",
    "\n",
    "plt.subplot(projection=\"polar\")\n",
    "\n",
    "plt.pcolormesh(th, r, u[n])\n",
    "\n",
    "plt.plot(thth, r, color='k', ls='none') \n",
    "plt.grid()\n",
    "\n",
    "plt.show()"
   ]
  },
  {
   "cell_type": "code",
   "execution_count": null,
   "metadata": {},
   "outputs": [],
   "source": []
  }
 ],
 "metadata": {
  "colab": {
   "collapsed_sections": [],
   "name": "llab6.ipynb",
   "provenance": []
  },
  "kernelspec": {
   "display_name": "Python 3",
   "language": "python",
   "name": "python3"
  },
  "language_info": {
   "codemirror_mode": {
    "name": "ipython",
    "version": 3
   },
   "file_extension": ".py",
   "mimetype": "text/x-python",
   "name": "python",
   "nbconvert_exporter": "python",
   "pygments_lexer": "ipython3",
   "version": "3.8.3"
  }
 },
 "nbformat": 4,
 "nbformat_minor": 1
}
