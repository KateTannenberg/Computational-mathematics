{
 "cells": [
  {
   "cell_type": "code",
   "execution_count": 14,
   "metadata": {},
   "outputs": [],
   "source": [
    "from math import *\n",
    "import numpy as np\n",
    "from scipy.sparse import dia_matrix"
   ]
  },
  {
   "cell_type": "markdown",
   "metadata": {},
   "source": [
    "Воспользуемся методом конечных разностей, заменим ими производные в узлах сетки"
   ]
  },
  {
   "cell_type": "code",
   "execution_count": 4,
   "metadata": {},
   "outputs": [],
   "source": [
    "x0, xN = 0, 1      # концы отрезка\n",
    "L = 1000             # число отрезков\n",
    "h = (xN - x0) / L  # шаг сетки"
   ]
  },
  {
   "cell_type": "markdown",
   "metadata": {},
   "source": [
    "Решая полученную однородную систему линейных уравнений, получаем трехдиагональную матрицу системы"
   ]
  },
  {
   "cell_type": "markdown",
   "metadata": {},
   "source": [
    "Используем метод прогонки"
   ]
  },
  {
   "cell_type": "code",
   "execution_count": 6,
   "metadata": {},
   "outputs": [],
   "source": [
    "import numpy as np\n",
    "from scipy.sparse import dia_matrix\n",
    "from numpy import linalg as LA\n",
    "\n",
    "def q0(x):\n",
    "    return 2 if x <= 1/2 else 1\n",
    "\n",
    "def calcDet(lam):\n",
    "    upper_arr = [0, 0] + [1 for i in range(1, L)]\n",
    "    middle_arr = [1] + [-2+lam* q0(i*h) *h**2 for i in range(1, L)] + [1]\n",
    "    lower_arr = [1 for i in range(1, L)] + [0, 0]\n",
    "    return LA.det(dia_matrix((np.array([lower_arr, middle_arr, upper_arr]), [-1, 0, 1]), shape=(L + 1, L + 1)).toarray())"
   ]
  },
  {
   "cell_type": "markdown",
   "metadata": {},
   "source": [
    "Локализуем корни"
   ]
  },
  {
   "cell_type": "code",
   "execution_count": 15,
   "metadata": {},
   "outputs": [
    {
     "name": "stdout",
     "output_type": "stream",
     "text": [
      "Локализуем корни на отрезках\n",
      "Отрезок  0 : (6.0, 8.0)\n",
      "Отрезок  1 : (28.0, 30.0)\n",
      "Отрезок  2 : (58.0, 60.0)\n",
      "Отрезок  3 : (110.0, 112.0)\n",
      "Отрезок  4 : (166.0, 168.0)\n"
     ]
    }
   ],
   "source": [
    "n = 100\n",
    "z1, z2 = 0, 200\n",
    "value = [calcDet(z1 + i * (z2 - z1) / n) for i in range(n + 1)]\n",
    "roots = []\n",
    "for i in range(n):\n",
    "#     print(value[i] * value[i + 1])\n",
    "    if value[i] * value[i + 1] < 0:\n",
    "        x1 = z1 + i * (z2 - z1) / n\n",
    "        x2 = z1 + (i + 1) * (z2 - z1) / n\n",
    "        roots.append((x1, x2))\n",
    "print('Локализуем корни на отрезках')\n",
    "for i in range(len(roots)): print('Отрезок ',i,':',roots[i])"
   ]
  },
  {
   "cell_type": "markdown",
   "metadata": {},
   "source": [
    "Уточняем значение корня половинным делением"
   ]
  },
  {
   "cell_type": "code",
   "execution_count": 13,
   "metadata": {},
   "outputs": [
    {
     "name": "stdout",
     "output_type": "stream",
     "text": [
      "\n",
      "Уточненные значения корней:\n",
      "6.403717041015625\n",
      "28.431304931640625\n",
      "58.730743408203125\n",
      "110.76235961914062\n",
      "167.68771362304688\n"
     ]
    }
   ],
   "source": [
    "delta = 1e-4\n",
    "Y = []\n",
    "for i in range(len(roots)):\n",
    "    a = roots[i][0]\n",
    "    b = roots[i][1]\n",
    "    while (b - a > delta):\n",
    "        c = (a + b) / 2\n",
    "        if calcDet(c) * calcDet(a) < 0:\n",
    "            b = c\n",
    "        else:\n",
    "            a = c\n",
    "    Y.append((a + b) / 2)\n",
    "print('\\nУточненные значения корней:')\n",
    "for i in range(len(Y)): print(Y[i])"
   ]
  }
 ],
 "metadata": {
  "kernelspec": {
   "display_name": "Python 3",
   "language": "python",
   "name": "python3"
  },
  "language_info": {
   "codemirror_mode": {
    "name": "ipython",
    "version": 3
   },
   "file_extension": ".py",
   "mimetype": "text/x-python",
   "name": "python",
   "nbconvert_exporter": "python",
   "pygments_lexer": "ipython3",
   "version": "3.8.3"
  }
 },
 "nbformat": 4,
 "nbformat_minor": 4
}
