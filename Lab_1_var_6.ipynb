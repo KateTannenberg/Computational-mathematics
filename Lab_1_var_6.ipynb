{
 "cells": [
  {
   "cell_type": "code",
   "execution_count": 4,
   "metadata": {},
   "outputs": [],
   "source": [
    "import numpy as np\n",
    "from sympy import *\n",
    "import matplotlib.pyplot as plt\n",
    "from sympy.plotting.textplot import linspace"
   ]
  },
  {
   "cell_type": "markdown",
   "metadata": {},
   "source": [
    "Высчитываем k1, k2, k3, k4"
   ]
  },
  {
   "cell_type": "code",
   "execution_count": 23,
   "metadata": {},
   "outputs": [],
   "source": [
    "# k = 4\n",
    "def ode_4(f, g, t0, v0, y0, h):\n",
    "    k1 = f(t0, v0, y0)\n",
    "    m1 = g(t0, v0, y0)\n",
    "    \n",
    "    k2 = f(t0 + h/2, v0 + k1*h/2, y0 + m1*h/2)\n",
    "    m2 = g(t0 + h/2, v0 + k1*h/2, y0 + m1*h/2)\n",
    "    \n",
    "    k3 = f(t0 + h/2, v0 + k2*h/2, y0 + m2*h/2)\n",
    "    m3 = g(t0 + h/2, v0 + k2*h/2, y0 + m2*h/2)\n",
    "    \n",
    "    k4 = f(t0 + h, v0 + k3*h, y0 + m3*h)\n",
    "    m4 = g(t0 + h, v0 + k3*h, y0 + m3*h)\n",
    "    \n",
    "    \"\"\"print(\"\\n\", k1, k2, k3, k4, y0, \"\\n\")\"\"\"\n",
    "    v1 = v0 + h*(k1 + 2*k2 + 2*k3 + k4)/6\n",
    "    y1 = y0 + h*(m1 + 2*m2 + 2*m3 + m4)/6\n",
    "    t1 = t0 + h\n",
    "\n",
    "    return (t1, v1, y1)"
   ]
  },
  {
   "cell_type": "code",
   "execution_count": 24,
   "metadata": {},
   "outputs": [],
   "source": [
    "def ode4sys(f, g, a, v, y_f, N, h):\n",
    "    T, V, Y = np.zeros(N + 1), np.zeros(N + 1), np.zeros(N + 1)\n",
    "    T[0], V[0], Y[0] = a, v, y_f\n",
    "    for i in range(1, N + 1):\n",
    "        T[i], V[i], Y[i] = ode_4(f, g, T[i-1], V[i-1], Y[i-1], h)\n",
    "    \n",
    "    return (T, V, Y)"
   ]
  },
  {
   "cell_type": "markdown",
   "metadata": {},
   "source": [
    "Высчитываем теоретическое решение"
   ]
  },
  {
   "cell_type": "code",
   "execution_count": 31,
   "metadata": {},
   "outputs": [],
   "source": [
    "y1, y2, x = symbols(\"y1, y2, x\")\n",
    "\n",
    "A, B, D = -5, 2, 1\n",
    "\n",
    " #Theoretical answer\n",
    "\n",
    "C1 = -A/5 + B/2\n",
    "C2 = A/5 + B/2\n",
    "\n",
    "y1th = C2 * 5 * exp(x)/2 - C1 * 5 * exp(-199 * x)/2\n",
    "y2th = C2 *exp(x) + C1 * exp(-199 * x)\n",
    "Y1th = lambdify(x, y1th, \"numpy\")\n",
    "Y2th = lambdify(x, y2th, \"numpy\")"
   ]
  },
  {
   "cell_type": "code",
   "execution_count": 32,
   "metadata": {},
   "outputs": [],
   "source": [
    " #Plotting\n",
    "\n",
    "F = - 99 * y1 + 250 * y2\n",
    "G = 40 * y1 - 99 * y2\n",
    "f = lambdify([x, y1, y2], F, \"numpy\")\n",
    "g = lambdify([x, y1, y2], G, \"numpy\")\n",
    "\n",
    "y1f, y2f = A, B\n",
    "a, b = 0, D\n",
    "length = b - a\n",
    "err = 1e-6\n",
    "N = 1600\n",
    "\n",
    "h = length / N\n",
    "\n",
    "X, Y1, Y2 = ode4sys(f, g, a, y1f, y2f, N, h)\n",
    "err_step = err * 2\n",
    "X0, Y10, Y20 = X, Y1, Y2\n",
    "\"\"\"\n",
    "while(err_step >= err):\n",
    "    N = 2 * N\n",
    "    h = length / N\n",
    "    X, Y1, Y2 = ode4sys(f, g, a, y1f, y2f, N, h)\n",
    "\n",
    "    n_step = int(N / 10 / 2)\n",
    "    \n",
    "    err_set1 = [abs(Y10[j * n_step] - Y1[2 * j * n_step]) for j in range(11)]\n",
    "    err_set2 = [abs(Y20[j * n_step] - Y2[2 * j * n_step]) for j in range(11)]\n",
    "    #err_set1 = [abs(Y1[2 * j * n_step] - Y1th(D * j / 10)) for j in range(11)]\n",
    "    #err_set2 = [abs(Y2[2 * j * n_step] - Y2th(D * j / 10)) for j in range(11)]\n",
    "    \n",
    "    print(f\"Errors in {N}: {max(err_set1)}, {max(err_set2)}\")\n",
    "    err_step = max(max(err_set1), max(err_set2))\n",
    "    X0, Y10, Y20 = X, Y1, Y2\n",
    "\"\"\"\n",
    "n_step = N / 10 / 2"
   ]
  },
  {
   "cell_type": "code",
   "execution_count": 33,
   "metadata": {},
   "outputs": [
    {
     "data": {
      "text/plain": [
       "[<matplotlib.lines.Line2D at 0x23a87f31520>]"
      ]
     },
     "execution_count": 33,
     "metadata": {},
     "output_type": "execute_result"
    },
    {
     "data": {
      "image/png": "[encoded data removed]",
      "text/plain": [
       "<Figure size 432x288 with 1 Axes>"
      ]
     },
     "metadata": {
      "needs_background": "light"
     },
     "output_type": "display_data"
    }
   ],
   "source": [
    "plt.plot(X, Y1)\n",
    "plt.plot(X, Y2)"
   ]
  },
  {
   "cell_type": "markdown",
   "metadata": {},
   "source": [
    "Численное решение"
   ]
  },
  {
   "cell_type": "code",
   "execution_count": 34,
   "metadata": {},
   "outputs": [
    {
     "data": {
      "text/plain": [
       "[<matplotlib.lines.Line2D at 0x23a87f83e20>]"
      ]
     },
     "execution_count": 34,
     "metadata": {},
     "output_type": "execute_result"
    },
    {
     "data": {
      "image/png": "[encoded data removed]",
      "text/plain": [
       "<Figure size 432x288 with 1 Axes>"
      ]
     },
     "metadata": {
      "needs_background": "light"
     },
     "output_type": "display_data"
    }
   ],
   "source": [
    "plt.plot(X, Y1th(np.linspace(0, D, N + 1)))\n",
    "plt.plot(X, Y2th(np.linspace(0, D, N + 1)))"
   ]
  },
  {
   "cell_type": "markdown",
   "metadata": {},
   "source": [
    "Теоретическое решение"
   ]
  },
  {
   "cell_type": "markdown",
   "metadata": {},
   "source": [
    "Конечные выводы:"
   ]
  },
  {
   "cell_type": "code",
   "execution_count": 35,
   "metadata": {},
   "outputs": [
    {
     "name": "stdout",
     "output_type": "stream",
     "text": [
      "Количество сегментов N = 1600\n",
      "\n",
      "\n",
      "X = 0.000\n",
      "\n",
      "  Y1_th = -5.0\n",
      "\n",
      "  Y1_ex = -5.0\n",
      "\n",
      "  Diff1 = 0.0\n",
      "\n",
      "\n",
      "  Y2_th = 2.0\n",
      "\n",
      "  Y2_ex = 2.0\n",
      "\n",
      "  Diff2 = 0.0\n",
      "\n",
      "\n",
      "X = 0.100\n",
      "\n",
      "  Y1_th = -1.1389635206026814e-08\n",
      "\n",
      "  Y1_ex = -1.1390136028067802e-08\n",
      "\n",
      "  Diff1 = 5.008220409875953e-13\n",
      "\n",
      "\n",
      "  Y2_th = 4.555854082410726e-09\n",
      "\n",
      "  Y2_ex = 4.556054890398452e-09\n",
      "\n",
      "  Diff2 = 2.0080798772614976e-13\n",
      "\n",
      "\n",
      "X = 0.200\n",
      "\n",
      "  Y1_th = -2.5944758025273094e-17\n",
      "\n",
      "  Y1_ex = 6.360107334832778e-16\n",
      "\n",
      "  Diff1 = 6.619554915085509e-16\n",
      "\n",
      "\n",
      "  Y2_th = 1.0377903210109237e-17\n",
      "\n",
      "  Y2_ex = 2.751619273745039e-16\n",
      "\n",
      "  Diff2 = 2.6478402416439465e-16\n",
      "\n",
      "\n",
      "X = 0.300\n",
      "\n",
      "  Y1_th = -5.910026588330006e-26\n",
      "\n",
      "  Y1_ex = 7.315764829256629e-16\n",
      "\n",
      "  Diff1 = 7.315764829847632e-16\n",
      "\n",
      "\n",
      "  Y2_th = 2.3640106353320025e-26\n",
      "\n",
      "  Y2_ex = 2.926305932175516e-16\n",
      "\n",
      "  Diff2 = 2.926305931939115e-16\n",
      "\n",
      "\n",
      "X = 0.400\n",
      "\n",
      "  Y1_th = -1.3462609379799455e-34\n",
      "\n",
      "  Y1_ex = 8.085170533428325e-16\n",
      "\n",
      "  Diff1 = 8.085170533428325e-16\n",
      "\n",
      "\n",
      "  Y2_th = 5.385043751919782e-35\n",
      "\n",
      "  Y2_ex = 3.23406821337133e-16\n",
      "\n",
      "  Diff2 = 3.23406821337133e-16\n",
      "\n",
      "\n",
      "X = 0.500\n",
      "\n",
      "  Y1_th = -3.0666841951430463e-43\n",
      "\n",
      "  Y1_ex = 8.935495341227155e-16\n",
      "\n",
      "  Diff1 = 8.935495341227155e-16\n",
      "\n",
      "\n",
      "  Y2_th = 1.2266736780572185e-43\n",
      "\n",
      "  Y2_ex = 3.574198136490862e-16\n",
      "\n",
      "  Diff2 = 3.574198136490862e-16\n",
      "\n",
      "\n",
      "X = 0.600\n",
      "\n",
      "  Y1_th = -6.985682854953523e-52\n",
      "\n",
      "  Y1_ex = 9.87524958972469e-16\n",
      "\n",
      "  Diff1 = 9.87524958972469e-16\n",
      "\n",
      "\n",
      "  Y2_th = 2.7942731419814092e-52\n",
      "\n",
      "  Y2_ex = 3.9500998358898756e-16\n",
      "\n",
      "  Diff2 = 3.9500998358898756e-16\n",
      "\n",
      "\n",
      "X = 0.700\n",
      "\n",
      "  Y1_th = -1.5912875876583478e-60\n",
      "\n",
      "  Y1_ex = 1.09138386553022e-15\n",
      "\n",
      "  Diff1 = 1.09138386553022e-15\n",
      "\n",
      "\n",
      "  Y2_th = 6.365150350633392e-61\n",
      "\n",
      "  Y2_ex = 4.36553546212088e-16\n",
      "\n",
      "  Diff2 = 4.36553546212088e-16\n",
      "\n",
      "\n",
      "X = 0.800\n",
      "\n",
      "  Y1_th = -3.624837026261284e-69\n",
      "\n",
      "  Y1_ex = 1.206165708640983e-15\n",
      "\n",
      "  Diff1 = 1.206165708640983e-15\n",
      "\n",
      "\n",
      "  Y2_th = 1.4499348105045137e-69\n",
      "\n",
      "  Y2_ex = 4.824662834563933e-16\n",
      "\n",
      "  Diff2 = 4.824662834563933e-16\n",
      "\n",
      "\n",
      "X = 0.900\n",
      "\n",
      "  Y1_th = -8.257114282083219e-78\n",
      "\n",
      "  Y1_ex = 1.3330192635701194e-15\n",
      "\n",
      "  Diff1 = 1.3330192635701194e-15\n",
      "\n",
      "\n",
      "  Y2_th = 3.3028457128332874e-78\n",
      "\n",
      "  Y2_ex = 5.332077054280477e-16\n",
      "\n",
      "  Diff2 = 5.332077054280477e-16\n",
      "\n",
      "\n",
      "X = 1.000\n",
      "\n",
      "  Y1_th = -1.8809103905480303e-86\n",
      "\n",
      "  Y1_ex = 1.4732141233323127e-15\n",
      "\n",
      "  Diff1 = 1.4732141233323127e-15\n",
      "\n",
      "\n",
      "  Y2_th = 7.523641562192122e-87\n",
      "\n",
      "  Y2_ex = 5.892856493329252e-16\n",
      "\n",
      "  Diff2 = 5.892856493329252e-16\n",
      "\n",
      "\n"
     ]
    }
   ],
   "source": [
    "print(f\"Количество сегментов N = {N}\\n\\n\")\n",
    "for i in range(11):\n",
    "    print(f\"X = {X[int(2 * i * n_step)]:.3f}\\n\")\n",
    "    print(\"{:>2}Y1_th = {}\\n\".format(\"\", Y1th(D * i / 10)))\n",
    "    print(\"{:>2}Y1_ex = {}\\n\".format(\"\", Y1[int(2 * i * n_step)]))\n",
    "    print(\"{:>2}Diff1 = {}\\n\\n\".format(\"\", abs(Y1[int(2 * i * n_step)] - Y1th(D * i / 10))))\n",
    "\n",
    "    print(\"{:>2}Y2_th = {}\\n\".format(\"\", Y2th(D * i / 10)))\n",
    "    print(\"{:>2}Y2_ex = {}\\n\".format(\"\", Y2[int(2 * i * n_step)]))\n",
    "    print(\"{:>2}Diff2 = {}\\n\\n\".format(\"\", abs(Y2[int(2 * i * n_step)] - Y2th(D * i / 10))))"
   ]
  },
  {
   "cell_type": "code",
   "execution_count": 14,
   "metadata": {},
   "outputs": [],
   "source": []
  },
  {
   "cell_type": "code",
   "execution_count": null,
   "metadata": {},
   "outputs": [],
   "source": []
  }
 ],
 "metadata": {
  "kernelspec": {
   "display_name": "Python 3",
   "language": "python",
   "name": "python3"
  },
  "language_info": {
   "codemirror_mode": {
    "name": "ipython",
    "version": 3
   },
   "file_extension": ".py",
   "mimetype": "text/x-python",
   "name": "python",
   "nbconvert_exporter": "python",
   "pygments_lexer": "ipython3",
   "version": "3.8.3"
  }
 },
 "nbformat": 4,
 "nbformat_minor": 4
}
