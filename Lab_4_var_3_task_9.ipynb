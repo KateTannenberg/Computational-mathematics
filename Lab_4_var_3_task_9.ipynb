{
 "cells": [
  {
   "cell_type": "code",
   "execution_count": 2,
   "metadata": {
    "id": "Sy-24cRMzzHm"
   },
   "outputs": [],
   "source": [
    "from math import *\n",
    "import numpy as np\n",
    "import matplotlib.pyplot as plt\n",
    "import pandas as pd"
   ]
  },
  {
   "cell_type": "code",
   "execution_count": 3,
   "metadata": {
    "id": "JGkEjbiY0Ipk"
   },
   "outputs": [],
   "source": [
    "u0 = lambda x: sin(x) - 0.125*(x**2)\n",
    "ul = lambda t: sin(1+4*t) - 0.125\n",
    "dul = lambda t: 4*cos(1+4*t)\n",
    "d2ul = lambda t: -16*sin(1+4*t)\n",
    "d3ul = lambda t: -64*cos(1+4*t)\n",
    "a = lambda x: -4\n",
    "dadx = lambda x: 0\n",
    "dadt = 0\n",
    "b = lambda x: x\n",
    "dbdx = lambda x: 1\n",
    "dbdt = 0\n",
    "\n",
    "u_an = lambda x, t: sin(x+4*t)-0.125*(x**2)"
   ]
  },
  {
   "cell_type": "markdown",
   "metadata": {},
   "source": [
    "Считаем для значений h=0.5, L=80, соответственно N=L/h+1=161"
   ]
  },
  {
   "cell_type": "code",
   "execution_count": 6,
   "metadata": {
    "colab": {
     "base_uri": "https://localhost:8080/",
     "height": 394
    },
    "id": "2s-svSE4AF1W",
    "outputId": "cc93fb48-8de5-41cf-e3d9-41676eca89a7"
   },
   "outputs": [
    {
     "data": {
      "text/html": [
       "<div>\n",
       "<style scoped>\n",
       "    .dataframe tbody tr th:only-of-type {\n",
       "        vertical-align: middle;\n",
       "    }\n",
       "\n",
       "    .dataframe tbody tr th {\n",
       "        vertical-align: top;\n",
       "    }\n",
       "\n",
       "    .dataframe thead th {\n",
       "        text-align: right;\n",
       "    }\n",
       "</style>\n",
       "<table border=\"1\" class=\"dataframe\">\n",
       "  <thead>\n",
       "    <tr style=\"text-align: right;\">\n",
       "      <th></th>\n",
       "      <th>x</th>\n",
       "      <th>u</th>\n",
       "      <th>u*</th>\n",
       "      <th>d</th>\n",
       "    </tr>\n",
       "  </thead>\n",
       "  <tbody>\n",
       "    <tr>\n",
       "      <th>0</th>\n",
       "      <td>0.0</td>\n",
       "      <td>-0.756801</td>\n",
       "      <td>-0.756802</td>\n",
       "      <td>1.664927e-06</td>\n",
       "    </tr>\n",
       "    <tr>\n",
       "      <th>1</th>\n",
       "      <td>0.1</td>\n",
       "      <td>-0.819526</td>\n",
       "      <td>-0.819527</td>\n",
       "      <td>1.456705e-06</td>\n",
       "    </tr>\n",
       "    <tr>\n",
       "      <th>2</th>\n",
       "      <td>0.2</td>\n",
       "      <td>-0.876575</td>\n",
       "      <td>-0.876576</td>\n",
       "      <td>1.233927e-06</td>\n",
       "    </tr>\n",
       "    <tr>\n",
       "      <th>3</th>\n",
       "      <td>0.3</td>\n",
       "      <td>-0.927415</td>\n",
       "      <td>-0.927416</td>\n",
       "      <td>9.988206e-07</td>\n",
       "    </tr>\n",
       "    <tr>\n",
       "      <th>4</th>\n",
       "      <td>0.4</td>\n",
       "      <td>-0.971601</td>\n",
       "      <td>-0.971602</td>\n",
       "      <td>7.537342e-07</td>\n",
       "    </tr>\n",
       "    <tr>\n",
       "      <th>5</th>\n",
       "      <td>0.5</td>\n",
       "      <td>-1.008780</td>\n",
       "      <td>-1.008780</td>\n",
       "      <td>5.011168e-07</td>\n",
       "    </tr>\n",
       "    <tr>\n",
       "      <th>6</th>\n",
       "      <td>0.6</td>\n",
       "      <td>-1.038691</td>\n",
       "      <td>-1.038691</td>\n",
       "      <td>2.434924e-07</td>\n",
       "    </tr>\n",
       "    <tr>\n",
       "      <th>7</th>\n",
       "      <td>0.7</td>\n",
       "      <td>-1.061173</td>\n",
       "      <td>-1.061173</td>\n",
       "      <td>1.656489e-08</td>\n",
       "    </tr>\n",
       "    <tr>\n",
       "      <th>8</th>\n",
       "      <td>0.8</td>\n",
       "      <td>-1.076165</td>\n",
       "      <td>-1.076165</td>\n",
       "      <td>2.764567e-07</td>\n",
       "    </tr>\n",
       "    <tr>\n",
       "      <th>9</th>\n",
       "      <td>0.9</td>\n",
       "      <td>-1.083703</td>\n",
       "      <td>-1.083703</td>\n",
       "      <td>5.335862e-07</td>\n",
       "    </tr>\n",
       "    <tr>\n",
       "      <th>10</th>\n",
       "      <td>1.0</td>\n",
       "      <td>-1.083924</td>\n",
       "      <td>-1.083924</td>\n",
       "      <td>0.000000e+00</td>\n",
       "    </tr>\n",
       "  </tbody>\n",
       "</table>\n",
       "</div>"
      ],
      "text/plain": [
       "      x         u        u*             d\n",
       "0   0.0 -0.756801 -0.756802  1.664927e-06\n",
       "1   0.1 -0.819526 -0.819527  1.456705e-06\n",
       "2   0.2 -0.876575 -0.876576  1.233927e-06\n",
       "3   0.3 -0.927415 -0.927416  9.988206e-07\n",
       "4   0.4 -0.971601 -0.971602  7.537342e-07\n",
       "5   0.5 -1.008780 -1.008780  5.011168e-07\n",
       "6   0.6 -1.038691 -1.038691  2.434924e-07\n",
       "7   0.7 -1.061173 -1.061173  1.656489e-08\n",
       "8   0.8 -1.076165 -1.076165  2.764567e-07\n",
       "9   0.9 -1.083703 -1.083703  5.335862e-07\n",
       "10  1.0 -1.083924 -1.083924  0.000000e+00"
      ]
     },
     "execution_count": 6,
     "metadata": {},
     "output_type": "execute_result"
    }
   ],
   "source": [
    "t0, t1 = 0, 1\n",
    "x0, x1 = 0, 1\n",
    "\n",
    "tau_h = 0.5\n",
    "L = 80\n",
    "N = round(L/tau_h)\n",
    "\n",
    "tt = np.linspace(t0, t1, N+1)\n",
    "tau = np.diff(tt)[0]\n",
    "\n",
    "xx = np.linspace(x0, x1, L+1)\n",
    "h = np.diff(xx)[0]\n",
    "\n",
    "u_curr = np.zeros([L+1])\n",
    "u_prev = [u0(x) for x in xx]\n",
    "\n",
    "for n in range(N):\n",
    "    u_prev = u_curr\n",
    "    u_curr = np.zeros([L+1])\n",
    "    for l in range(L+1):\n",
    "        if l<L+1-3:\n",
    "            a1 = (2*tau/(3*h))*(2*u_prev[l+3]-9*u_prev[l+2]+18*u_prev[l+1]-11*u_prev[l])\n",
    "            a2 = (8*(tau**2)/(h**2))*(-u_prev[l+3]+4*u_prev[l+2]-5*u_prev[l+1]+2*u_prev[l])\n",
    "            a3 = (32*(tau**3)/(3*(h**3))) * (u_prev[l+3]-3*u_prev[l+2]+3*u_prev[l+1]-u_prev[l])\n",
    "            a4 = (tau*xx[l]) + 2*(tau**2)\n",
    "            u_curr[l] = u_prev[l] + a1 + a2 + a3 + a4\n",
    "        elif l == L:\n",
    "            u_curr[l] = ul(tt[n+1])\n",
    "        else:\n",
    "            t = tt[n+1]\n",
    "            du = cos(1+4*t)-0.125*2*1\n",
    "            d2u = -sin(1+4*t)-0.125*2\n",
    "\n",
    "            dx = (l - L)*h\n",
    "            u_curr[l] = ul(t) + (du*dx) + (d2u*(dx**2)/2)\n",
    "\n",
    "    if max(u_curr)>1e3:\n",
    "        break\n",
    "\n",
    "n = L//10\n",
    "u_ann = [u_an(x, tt[-1]) for x in xx[::n]]\n",
    "diff = abs(u_curr[::n] - u_ann)\n",
    "\n",
    "df = pd.DataFrame({'x': xx[::n], 'u': u_curr[::n], 'u*': u_ann, 'd': diff})\n",
    "df"
   ]
  },
  {
   "cell_type": "markdown",
   "metadata": {},
   "source": [
    "проверка на устойчивость"
   ]
  },
  {
   "cell_type": "code",
   "execution_count": 4,
   "metadata": {
    "id": "1ptoIYGbEJem"
   },
   "outputs": [],
   "source": [
    "def run(L, tau_h):\n",
    "    t0, t1 = 0, 1\n",
    "    x0, x1 = 0, 1\n",
    "\n",
    "    N = round(L/tau_h)\n",
    "\n",
    "    tt = np.linspace(t0, t1, N+1)\n",
    "    tau = np.diff(tt)[0]\n",
    "\n",
    "    xx = np.linspace(x0, x1, L+1)\n",
    "    h = np.diff(xx)[0]\n",
    "\n",
    "    u_curr = np.zeros([L+1])\n",
    "    u_prev = [u0(x) for x in xx]\n",
    "\n",
    "    for n in range(N):\n",
    "        u_prev, u_curr = u_curr, u_prev\n",
    "#         u_prev = u_curr\n",
    "        # u_curr = np.zeros([L+1])\n",
    "        for l in range(L+1):\n",
    "            if l>=3:\n",
    "                a1 = (tau/(6*h))*(xx[l]+4)*(1-(tau/2)+((tau**2)/6))*(2*u_prev[l-3]-9*u_prev[l-2]+18*u_prev[l-1]-11*u_prev[l])\n",
    "                a2 = ((tau**2)/(2*(h**2)))*((xx[l]+4)**2) * (1-tau)*(-u_prev[l-3]+4*u_prev[l-2]-5*u_prev[l-1]+2*u_prev[l])\n",
    "                a3 = -((tau**3)/(6*(h**3)))*((xx[l]+4)**3) * (-u_prev[l-3]+3*u_prev[l-2]-3*u_prev[l-1]+u_prev[l])\n",
    "                u_curr[l] = u_prev[l] + a1 + a2 + a3\n",
    "            elif l == 0:\n",
    "                u_curr[l] = ul(tt[n+1])\n",
    "            else:\n",
    "                t = tt[n+1]\n",
    "                du = 8*exp(-2*t)\n",
    "                d2u = 2*exp(-2*t)\n",
    "\n",
    "                dx = l*h\n",
    "                u_curr[l] = ul(t) + (du*dx) + (d2u*(dx**2)/2)\n",
    "\n",
    "        if max(u_curr)>1e3:\n",
    "            break\n",
    "\n",
    "    n = L//10\n",
    "    u_ann = np.array([u_an(x, tt[-1]) for x in xx])\n",
    "    diff = abs(u_curr - u_ann)\n",
    "\n",
    "    return max(diff)"
   ]
  },
  {
   "cell_type": "code",
   "execution_count": 5,
   "metadata": {
    "id": "IZ2So8VmH0_m"
   },
   "outputs": [],
   "source": [
    "L = 80\n",
    "tau_hs = np.linspace(0.01, 1, 100)\n",
    "\n",
    "stab = [run(L, tau_h) for tau_h in tau_hs]"
   ]
  },
  {
   "cell_type": "code",
   "execution_count": 6,
   "metadata": {
    "colab": {
     "base_uri": "https://localhost:8080/",
     "height": 265
    },
    "id": "SQhlnvBmxmMU",
    "outputId": "adf01470-857f-470a-f3fd-3fb72c6ea58c"
   },
   "outputs": [
    {
     "data": {
      "image/png": "[encoded data removed]",
      "text/plain": [
       "<Figure size 432x288 with 1 Axes>"
      ]
     },
     "metadata": {
      "needs_background": "light"
     },
     "output_type": "display_data"
    }
   ],
   "source": [
    "plt.plot(tau_hs, stab)\n",
    "plt.grid()"
   ]
  },
  {
   "cell_type": "code",
   "execution_count": 7,
   "metadata": {
    "colab": {
     "base_uri": "https://localhost:8080/",
     "height": 112
    },
    "id": "e4P91LlYQ850",
    "outputId": "662bddc2-498a-4ae2-8d34-6dc3c7053e63"
   },
   "outputs": [
    {
     "data": {
      "text/html": [
       "<div>\n",
       "<style scoped>\n",
       "    .dataframe tbody tr th:only-of-type {\n",
       "        vertical-align: middle;\n",
       "    }\n",
       "\n",
       "    .dataframe tbody tr th {\n",
       "        vertical-align: top;\n",
       "    }\n",
       "\n",
       "    .dataframe thead th {\n",
       "        text-align: right;\n",
       "    }\n",
       "</style>\n",
       "<table border=\"1\" class=\"dataframe\">\n",
       "  <thead>\n",
       "    <tr style=\"text-align: right;\">\n",
       "      <th></th>\n",
       "      <th>40</th>\n",
       "      <th>41</th>\n",
       "      <th>42</th>\n",
       "      <th>43</th>\n",
       "      <th>44</th>\n",
       "      <th>45</th>\n",
       "      <th>46</th>\n",
       "      <th>47</th>\n",
       "      <th>48</th>\n",
       "      <th>49</th>\n",
       "      <th>...</th>\n",
       "      <th>60</th>\n",
       "      <th>61</th>\n",
       "      <th>62</th>\n",
       "      <th>63</th>\n",
       "      <th>64</th>\n",
       "      <th>65</th>\n",
       "      <th>66</th>\n",
       "      <th>67</th>\n",
       "      <th>68</th>\n",
       "      <th>69</th>\n",
       "    </tr>\n",
       "  </thead>\n",
       "  <tbody>\n",
       "    <tr>\n",
       "      <th>tau/h</th>\n",
       "      <td>0.410000</td>\n",
       "      <td>0.420000</td>\n",
       "      <td>0.430000</td>\n",
       "      <td>0.440000</td>\n",
       "      <td>0.450000</td>\n",
       "      <td>0.460000</td>\n",
       "      <td>0.470000</td>\n",
       "      <td>0.480000</td>\n",
       "      <td>0.490000</td>\n",
       "      <td>0.500000</td>\n",
       "      <td>...</td>\n",
       "      <td>0.610000</td>\n",
       "      <td>0.620000</td>\n",
       "      <td>0.630000</td>\n",
       "      <td>0.640000</td>\n",
       "      <td>0.650000</td>\n",
       "      <td>0.660000</td>\n",
       "      <td>0.670000</td>\n",
       "      <td>0.680000</td>\n",
       "      <td>0.690000</td>\n",
       "      <td>0.700000</td>\n",
       "    </tr>\n",
       "    <tr>\n",
       "      <th>stab</th>\n",
       "      <td>0.327122</td>\n",
       "      <td>0.327122</td>\n",
       "      <td>0.327122</td>\n",
       "      <td>0.327122</td>\n",
       "      <td>0.327122</td>\n",
       "      <td>0.327122</td>\n",
       "      <td>0.327122</td>\n",
       "      <td>0.327122</td>\n",
       "      <td>0.327122</td>\n",
       "      <td>0.327122</td>\n",
       "      <td>...</td>\n",
       "      <td>0.327122</td>\n",
       "      <td>0.327122</td>\n",
       "      <td>0.327122</td>\n",
       "      <td>0.327122</td>\n",
       "      <td>0.327122</td>\n",
       "      <td>0.327122</td>\n",
       "      <td>1153.255165</td>\n",
       "      <td>3479.203756</td>\n",
       "      <td>1385.763681</td>\n",
       "      <td>1557.376734</td>\n",
       "    </tr>\n",
       "  </tbody>\n",
       "</table>\n",
       "<p>2 rows × 30 columns</p>\n",
       "</div>"
      ],
      "text/plain": [
       "             40        41        42        43        44        45        46  \\\n",
       "tau/h  0.410000  0.420000  0.430000  0.440000  0.450000  0.460000  0.470000   \n",
       "stab   0.327122  0.327122  0.327122  0.327122  0.327122  0.327122  0.327122   \n",
       "\n",
       "             47        48        49  ...        60        61        62  \\\n",
       "tau/h  0.480000  0.490000  0.500000  ...  0.610000  0.620000  0.630000   \n",
       "stab   0.327122  0.327122  0.327122  ...  0.327122  0.327122  0.327122   \n",
       "\n",
       "             63        64        65           66           67           68  \\\n",
       "tau/h  0.640000  0.650000  0.660000     0.670000     0.680000     0.690000   \n",
       "stab   0.327122  0.327122  0.327122  1153.255165  3479.203756  1385.763681   \n",
       "\n",
       "                69  \n",
       "tau/h     0.700000  \n",
       "stab   1557.376734  \n",
       "\n",
       "[2 rows x 30 columns]"
      ]
     },
     "execution_count": 7,
     "metadata": {},
     "output_type": "execute_result"
    }
   ],
   "source": [
    "pd.DataFrame({'tau/h': tau_hs, 'stab': stab})[40:70].T"
   ]
  },
  {
   "cell_type": "code",
   "execution_count": 8,
   "metadata": {
    "colab": {
     "base_uri": "https://localhost:8080/",
     "height": 265
    },
    "id": "YICBS15JJCIt",
    "outputId": "ca1ebc6f-1954-48b8-d0d9-04b06b34c51f"
   },
   "outputs": [
    {
     "data": {
      "image/png": "[encoded data removed]",
      "text/plain": [
       "<Figure size 432x288 with 1 Axes>"
      ]
     },
     "metadata": {
      "needs_background": "light"
     },
     "output_type": "display_data"
    }
   ],
   "source": [
    "plt.plot(tau_hs, stab)\n",
    "plt.grid()"
   ]
  },
  {
   "cell_type": "code",
   "execution_count": 9,
   "metadata": {
    "id": "PmrKGiCiEHXX"
   },
   "outputs": [],
   "source": [
    "# run(40)/run(80)"
   ]
  },
  {
   "cell_type": "code",
   "execution_count": 10,
   "metadata": {
    "id": "0YFsRHHEEgdf"
   },
   "outputs": [],
   "source": [
    "# run(80)/run(160)"
   ]
  },
  {
   "cell_type": "code",
   "execution_count": 11,
   "metadata": {
    "id": "dOAfJ1gMEiM0"
   },
   "outputs": [],
   "source": [
    "# run(160)/run(320)"
   ]
  }
 ],
 "metadata": {
  "colab": {
   "collapsed_sections": [],
   "name": "llab4.ipynb",
   "provenance": []
  },
  "kernelspec": {
   "display_name": "Python 3",
   "language": "python",
   "name": "python3"
  },
  "language_info": {
   "codemirror_mode": {
    "name": "ipython",
    "version": 3
   },
   "file_extension": ".py",
   "mimetype": "text/x-python",
   "name": "python",
   "nbconvert_exporter": "python",
   "pygments_lexer": "ipython3",
   "version": "3.8.3"
  }
 },
 "nbformat": 4,
 "nbformat_minor": 1
}
